{
  "cells": [
    {
      "cell_type": "markdown",
      "metadata": {
        "id": "jZSDSMyeAFr0"
      },
      "source": [
        "# **Import Library**"
      ]
    },
    {
      "cell_type": "code",
      "execution_count": 2,
      "metadata": {
        "id": "N-gVREDij2jV"
      },
      "outputs": [],
      "source": [
        "from nltk.corpus import stopwords # Daftar kata-kata berhenti dalam teks\n",
        "from nltk.stem import PorterStemmer # Stemmer yang digunakan adalah Porter Stemmer.\n",
        "from nltk.tokenize import word_tokenize # Tokenisasi teks\n",
        "from sklearn.ensemble import RandomForestClassifier # Algoritma Random Forest untuk klasifikasi\n",
        "from sklearn.feature_extraction.text import TfidfVectorizer # Konversi teks menjadi vektor TF-IDF\n",
        "from sklearn.linear_model import LogisticRegression # Algoritma Logistic Regression untuk klasifikasi\n",
        "from sklearn.metrics import accuracy_score # Metrik akurasi\n",
        "from sklearn.model_selection import train_test_split # Membagi data menjadi set pelatihan dan pengujian\n",
        "from sklearn.naive_bayes import BernoulliNB # Algoritma Naive Bayes untuk klasifikasi\n",
        "from sklearn.tree import DecisionTreeClassifier # Algoritma Decision Tree untuk klasifikasi\n",
        "from textblob import TextBlob # Pustaka untuk pemrosesan bahasa alami\n",
        "from wordcloud import WordCloud # Membuat visualisasi berbentuk awan kata (word cloud) dari teks\n",
        "import matplotlib.pyplot as plt # Matplotlib untuk visualisasi data\n",
        "import nltk # Import pustaka NLTK (Natural Language Toolkit).\n",
        "import numpy as np # NumPy untuk komputasi numerik\n",
        "import pandas as pd # Pandas untuk manipulasi dan analisis data\n",
        "import re # Modul untuk bekerja dengan ekspresi reguler\n",
        "import seaborn as sns # Seaborn untuk visualisasi data statistik, mengatur gaya visualisasi\n",
        "import string # Berisi konstanta string, seperti tanda baca\n",
        "np.random.seed(0) # Mengatur seed untuk reproduktibilitas\n",
        "pd.options.mode.chained_assignment = None # Menonaktifkan peringatan chaining"
      ]
    },
    {
      "cell_type": "code",
      "execution_count": 4,
      "metadata": {
        "colab": {
          "base_uri": "https://localhost:8080/"
        },
        "id": "c1r4I31Ikd1W",
        "outputId": "d8667770-1065-4b19-ef5a-7968d89f6d6f"
      },
      "outputs": [
        {
          "name": "stderr",
          "output_type": "stream",
          "text": [
            "[nltk_data] Downloading package punkt to /home/bima/nltk_data...\n",
            "[nltk_data]   Package punkt is already up-to-date!\n",
            "[nltk_data] Downloading package stopwords to /home/bima/nltk_data...\n",
            "[nltk_data]   Package stopwords is already up-to-date!\n"
          ]
        },
        {
          "data": {
            "text/plain": [
              "True"
            ]
          },
          "execution_count": 4,
          "metadata": {},
          "output_type": "execute_result"
        }
      ],
      "source": [
        "nltk.download('punkt')  # Mengunduh dataset yang diperlukan untuk tokenisasi teks.\n",
        "nltk.download('stopwords')  # Mengunduh dataset yang berisi daftar kata-kata berhenti (stop words) dalam berbagai bahasa."
      ]
    },
    {
      "cell_type": "markdown",
      "metadata": {
        "id": "UbSmrnDCAPc0"
      },
      "source": [
        "# Loading Dataset"
      ]
    },
    {
      "cell_type": "code",
      "execution_count": 5,
      "metadata": {
        "colab": {
          "base_uri": "https://localhost:8080/"
        },
        "id": "QPdI5SaGQGEI",
        "outputId": "0c5079ec-e411-4842-b629-93635f6d7ed1"
      },
      "outputs": [
        {
          "name": "stdout",
          "output_type": "stream",
          "text": [
            "Jumlah baris: 94500\n",
            "Jumlah kolom: 1\n"
          ]
        }
      ],
      "source": [
        "# Membaca dataset ulasan aplikasi 8 Ball Pool\n",
        "app_reviews_df = pd.read_csv('ulasan_aplikasi_8ballpool.csv')\n",
        "app_reviews_df = app_reviews_df[['content']]\n",
        "\n",
        "# Menghitung jumlah baris dan kolom dalam DataFrame\n",
        "jumlah_ulasan, jumlah_kolom = app_reviews_df.shape\n",
        "\n",
        "print(\"Jumlah baris:\", jumlah_ulasan)\n",
        "print(\"Jumlah kolom:\", jumlah_kolom)"
      ]
    },
    {
      "cell_type": "code",
      "execution_count": 6,
      "metadata": {
        "colab": {
          "base_uri": "https://localhost:8080/",
          "height": 206
        },
        "id": "OnhAbPjiQMyb",
        "outputId": "0c38c975-587a-4946-de8d-0c2eb912ec9a"
      },
      "outputs": [
        {
          "data": {
            "text/html": [
              "<div>\n",
              "<style scoped>\n",
              "    .dataframe tbody tr th:only-of-type {\n",
              "        vertical-align: middle;\n",
              "    }\n",
              "\n",
              "    .dataframe tbody tr th {\n",
              "        vertical-align: top;\n",
              "    }\n",
              "\n",
              "    .dataframe thead th {\n",
              "        text-align: right;\n",
              "    }\n",
              "</style>\n",
              "<table border=\"1\" class=\"dataframe\">\n",
              "  <thead>\n",
              "    <tr style=\"text-align: right;\">\n",
              "      <th></th>\n",
              "      <th>content</th>\n",
              "    </tr>\n",
              "  </thead>\n",
              "  <tbody>\n",
              "    <tr>\n",
              "      <th>0</th>\n",
              "      <td>Game is very fun and helps you learn about pla...</td>\n",
              "    </tr>\n",
              "    <tr>\n",
              "      <th>1</th>\n",
              "      <td>Would rate it higher, but the physics in this ...</td>\n",
              "    </tr>\n",
              "    <tr>\n",
              "      <th>2</th>\n",
              "      <td>This game is straight up fixed. Insane English...</td>\n",
              "    </tr>\n",
              "    <tr>\n",
              "      <th>3</th>\n",
              "      <td>After playing for years now it's time to updat...</td>\n",
              "    </tr>\n",
              "    <tr>\n",
              "      <th>4</th>\n",
              "      <td>The game is fun and addicting, but also extrem...</td>\n",
              "    </tr>\n",
              "  </tbody>\n",
              "</table>\n",
              "</div>"
            ],
            "text/plain": [
              "                                             content\n",
              "0  Game is very fun and helps you learn about pla...\n",
              "1  Would rate it higher, but the physics in this ...\n",
              "2  This game is straight up fixed. Insane English...\n",
              "3  After playing for years now it's time to updat...\n",
              "4  The game is fun and addicting, but also extrem..."
            ]
          },
          "execution_count": 6,
          "metadata": {},
          "output_type": "execute_result"
        }
      ],
      "source": [
        "# Menampilkan lima baris pertama dari DataFrame app_reviews_df\n",
        "app_reviews_df.head()"
      ]
    },
    {
      "cell_type": "code",
      "execution_count": 7,
      "metadata": {
        "colab": {
          "base_uri": "https://localhost:8080/"
        },
        "id": "NBaa2PEyRGsX",
        "outputId": "aeff0a54-a092-49aa-bb62-defe26671e60"
      },
      "outputs": [
        {
          "name": "stdout",
          "output_type": "stream",
          "text": [
            "<class 'pandas.core.frame.DataFrame'>\n",
            "RangeIndex: 94500 entries, 0 to 94499\n",
            "Data columns (total 1 columns):\n",
            " #   Column   Non-Null Count  Dtype \n",
            "---  ------   --------------  ----- \n",
            " 0   content  94500 non-null  object\n",
            "dtypes: object(1)\n",
            "memory usage: 738.4+ KB\n"
          ]
        }
      ],
      "source": [
        "# Menampilkan informasi tentang DataFrame app_reviews_df\n",
        "app_reviews_df.info()"
      ]
    },
    {
      "cell_type": "code",
      "execution_count": 8,
      "metadata": {
        "id": "K1O6pOHwZ2gR"
      },
      "outputs": [],
      "source": [
        "# Membuat DataFrame baru (clean_df) dengan menghapus baris yang memiliki nilai yang hilang (NaN) dari app_reviews_df\n",
        "clean_df = app_reviews_df.dropna()"
      ]
    },
    {
      "cell_type": "code",
      "execution_count": 9,
      "metadata": {
        "colab": {
          "base_uri": "https://localhost:8080/"
        },
        "id": "xQydMYNNgzWX",
        "outputId": "0ddbbf0f-cb28-4e3c-f3c7-f3ab61b6d38e"
      },
      "outputs": [
        {
          "name": "stdout",
          "output_type": "stream",
          "text": [
            "<class 'pandas.core.frame.DataFrame'>\n",
            "RangeIndex: 94500 entries, 0 to 94499\n",
            "Data columns (total 1 columns):\n",
            " #   Column   Non-Null Count  Dtype \n",
            "---  ------   --------------  ----- \n",
            " 0   content  94500 non-null  object\n",
            "dtypes: object(1)\n",
            "memory usage: 738.4+ KB\n"
          ]
        }
      ],
      "source": [
        "# Menampilkan informasi tentang DataFrame clean_df setelah membersihkan nilai yang hilang (NaN)\n",
        "clean_df.info()"
      ]
    },
    {
      "cell_type": "code",
      "execution_count": 10,
      "metadata": {
        "colab": {
          "base_uri": "https://localhost:8080/"
        },
        "id": "u_wloGpJiVce",
        "outputId": "63bd739e-e073-4056-e18d-b160eb575c0b"
      },
      "outputs": [
        {
          "name": "stdout",
          "output_type": "stream",
          "text": [
            "Jumlah baris sebelum menghapus duplikat: 94500\n",
            "Jumlah baris setelah menghapus duplikat: 93585\n"
          ]
        }
      ],
      "source": [
        "# Menghapus baris duplikat dari DataFrame clean_df\n",
        "clean_df = clean_df.drop_duplicates()\n",
        "\n",
        "# Menghitung jumlah baris dan kolom dalam DataFrame clean_df setelah menghapus duplikat\n",
        "jumlah_ulasan_setelah_hapus_duplikat, jumlah_kolom_setelah_hapus_duplikat = clean_df.shape\n",
        "\n",
        "print(\"Jumlah baris sebelum menghapus duplikat:\", jumlah_ulasan)\n",
        "print(\"Jumlah baris setelah menghapus duplikat:\", jumlah_ulasan_setelah_hapus_duplikat)"
      ]
    },
    {
      "cell_type": "markdown",
      "metadata": {
        "id": "OyzhtS7Mh1FQ"
      },
      "source": [
        "## Preprocessing"
      ]
    },
    {
      "cell_type": "markdown",
      "metadata": {
        "id": "iNFzyhW_HCd0"
      },
      "source": [
        "Berikut adalah beberapa fungsi yang digunakan untuk membersihkan dan memproses teks. Inilah penjelasan singkat tentang masing-masing fungsi:\n",
        "\n",
        "1. `cleaningText(text)`: Fungsi ini digunakan untuk membersihkan teks dengan beberapa langkah, seperti menghapus mention, hashtag, RT (retweet), tautan (link), angka, dan tanda baca. Selain itu, itu juga menggantikan karakter newline dengan spasi dan menghilangkan spasi ekstra di awal dan akhir teks.\n",
        "\n",
        "2. `casefoldingText(text)`: Fungsi ini mengonversi semua karakter dalam teks menjadi huruf kecil (lowercase), sehingga teks menjadi lebih seragam.\n",
        "\n",
        "3. `tokenizingText(text)`: Fungsi ini digunakan untuk membagi teks menjadi daftar kata atau token. Ini berguna untuk mengurai teks menjadi komponen-komponen dasar.\n",
        "\n",
        "4. `filteringText(text)`: Fungsi ini digunakan untuk menghapus kata-kata berhenti (stopwords) dalam teks. Anda telah memperbarui daftar kata-kata berhenti dengan beberapa kata tambahan.\n",
        "\n",
        "5. `stemmingText(text)`: Fungsi ini menerapkan stemming pada teks, yaitu mengurangi kata-kata menjadi bentuk dasarnya. Anda menggunakan pustaka Sastrawi untuk melakukan stemming dalam bahasa Indonesia.\n",
        "\n",
        "6. `toSentence(list_words)`: Fungsi ini digunakan untuk menggabungkan daftar kata-kata menjadi sebuah kalimat.\n",
        "\n",
        "Anda dapat menggunakan fungsi-fungsi ini dalam proyek Anda untuk membersihkan, memproses, dan mempersiapkan teks sebelum melakukan analisis sentimen. Pastikan untuk memanggil fungsi-fungsi ini dengan benar sesuai dengan tahap pemrosesan teks yang Anda inginkan."
      ]
    },
    {
      "cell_type": "code",
      "execution_count": 11,
      "metadata": {
        "id": "Dlz8X3I6g3uU"
      },
      "outputs": [],
      "source": [
        "def cleaningText(text):\n",
        "    text = re.sub(r'@[A-Za-z0-9]+', '', text) # remove mentions\n",
        "    text = re.sub(r'#[A-Za-z0-9]+', '', text) # remove hashtag\n",
        "    text = re.sub(r'RT[\\s]', '', text) # remove RT\n",
        "    text = re.sub(r\"http\\S+\", '', text) # remove link\n",
        "    text = re.sub(r'[0-9]+', '', text) # remove numbers\n",
        "    text = re.sub(r'[^\\w\\s]', '', text) # remove numbers\n",
        "    text = text.replace('\\n', ' ') # replace new line into space\n",
        "    text = text.translate(str.maketrans('', '', string.punctuation)) # remove all punctuations\n",
        "    text = text.strip(' ') # remove characters space from both left and right text\n",
        "    return text\n",
        "\n",
        "def casefoldingText(text): # Converting all the characters in a text into lower case\n",
        "    text = text.lower()\n",
        "    return text\n",
        "\n",
        "def tokenizingText(text): # Tokenizing or splitting a string, text into a list of tokens\n",
        "    text = word_tokenize(text)\n",
        "    return text\n",
        "\n",
        "def filteringText(text): # Remove stopwors in a text\n",
        "    listStopwords = set(stopwords.words('english'))\n",
        "    filtered = []\n",
        "    for txt in text:\n",
        "        if txt not in listStopwords:\n",
        "            filtered.append(txt)\n",
        "    text = filtered\n",
        "    return text\n",
        "\n",
        "def stemmingText(text): # Reducing a word to its word stem that affixes to suffixes and prefixes or to the roots of words\n",
        "    # Membuat objek stemmer\n",
        "    stemmer = PorterStemmer()\n",
        "\n",
        "    # Menerapkan stemming pada setiap kata dalam daftar\n",
        "    stemmed_words = [stemmer.stem(word) for word in text]\n",
        "\n",
        "    return stemmed_words\n",
        "\n",
        "def toSentence(list_words): # Convert list of words into sentence\n",
        "    sentence = ' '.join(word for word in list_words)\n",
        "    return sentence"
      ]
    },
    {
      "cell_type": "code",
      "execution_count": 12,
      "metadata": {
        "id": "3UfrxYDEnaQu"
      },
      "outputs": [
        {
          "name": "stdout",
          "output_type": "stream",
          "text": [
            "CPU times: user 47.7 s, sys: 1.65 s, total: 49.3 s\n",
            "Wall time: 50 s\n"
          ]
        }
      ],
      "source": [
        "%%time\n",
        "# Membersihkan teks dan menyimpannya di kolom 'text_clean'\n",
        "clean_df['text_clean'] = clean_df['content'].apply(cleaningText)\n",
        "\n",
        "# Mengubah huruf dalam teks menjadi huruf kecil dan menyimpannya di 'text_casefoldingText'\n",
        "clean_df['text_casefoldingText'] = clean_df['text_clean'].apply(casefoldingText)\n",
        "\n",
        "# Memecah teks menjadi token (kata-kata) dan menyimpannya di 'text_tokenizingText'\n",
        "clean_df['text_tokenizingText'] = clean_df['text_casefoldingText'].apply(tokenizingText)\n",
        "\n",
        "# Menghapus kata-kata stop (kata-kata umum) dan menyimpannya di 'text_stopword'\n",
        "clean_df['text_stopword'] = clean_df['text_tokenizingText'].apply(filteringText)\n",
        "\n",
        "# Stemming teks dan menyimpannya di 'text_stemmingText'\n",
        "clean_df['text_stemmingText'] = clean_df['text_stopword'].apply(stemmingText)\n",
        "\n",
        "# Menggabungkan token-token menjadi kalimat dan menyimpannya di 'text_akhir'\n",
        "clean_df['text_akhir'] = clean_df['text_stemmingText'].apply(toSentence)"
      ]
    },
    {
      "cell_type": "code",
      "execution_count": 13,
      "metadata": {
        "colab": {
          "base_uri": "https://localhost:8080/",
          "height": 553
        },
        "id": "V7AbN1X8Jxk8",
        "outputId": "2bf66c2a-815a-4018-8b57-df5e07fb090a"
      },
      "outputs": [
        {
          "data": {
            "text/html": [
              "<div>\n",
              "<style scoped>\n",
              "    .dataframe tbody tr th:only-of-type {\n",
              "        vertical-align: middle;\n",
              "    }\n",
              "\n",
              "    .dataframe tbody tr th {\n",
              "        vertical-align: top;\n",
              "    }\n",
              "\n",
              "    .dataframe thead th {\n",
              "        text-align: right;\n",
              "    }\n",
              "</style>\n",
              "<table border=\"1\" class=\"dataframe\">\n",
              "  <thead>\n",
              "    <tr style=\"text-align: right;\">\n",
              "      <th></th>\n",
              "      <th>content</th>\n",
              "      <th>text_clean</th>\n",
              "      <th>text_casefoldingText</th>\n",
              "      <th>text_tokenizingText</th>\n",
              "      <th>text_stopword</th>\n",
              "      <th>text_stemmingText</th>\n",
              "      <th>text_akhir</th>\n",
              "    </tr>\n",
              "  </thead>\n",
              "  <tbody>\n",
              "    <tr>\n",
              "      <th>0</th>\n",
              "      <td>Game is very fun and helps you learn about pla...</td>\n",
              "      <td>Game is very fun and helps you learn about pla...</td>\n",
              "      <td>game is very fun and helps you learn about pla...</td>\n",
              "      <td>[game, is, very, fun, and, helps, you, learn, ...</td>\n",
              "      <td>[game, fun, helps, learn, playing, game, real,...</td>\n",
              "      <td>[game, fun, help, learn, play, game, real, rig...</td>\n",
              "      <td>game fun help learn play game real rig opinion...</td>\n",
              "    </tr>\n",
              "    <tr>\n",
              "      <th>1</th>\n",
              "      <td>Would rate it higher, but the physics in this ...</td>\n",
              "      <td>Would rate it higher but the physics in this g...</td>\n",
              "      <td>would rate it higher but the physics in this g...</td>\n",
              "      <td>[would, rate, it, higher, but, the, physics, i...</td>\n",
              "      <td>[would, rate, higher, physics, game, inconsist...</td>\n",
              "      <td>[would, rate, higher, physic, game, inconsist,...</td>\n",
              "      <td>would rate higher physic game inconsist exampl...</td>\n",
              "    </tr>\n",
              "    <tr>\n",
              "      <th>2</th>\n",
              "      <td>This game is straight up fixed. Insane English...</td>\n",
              "      <td>This game is straight up fixed Insane English ...</td>\n",
              "      <td>this game is straight up fixed insane english ...</td>\n",
              "      <td>[this, game, is, straight, up, fixed, insane, ...</td>\n",
              "      <td>[game, straight, fixed, insane, english, didnt...</td>\n",
              "      <td>[game, straight, fix, insan, english, didnt, s...</td>\n",
              "      <td>game straight fix insan english didnt set appl...</td>\n",
              "    </tr>\n",
              "    <tr>\n",
              "      <th>3</th>\n",
              "      <td>After playing for years now it's time to updat...</td>\n",
              "      <td>After playing for years now its time to update...</td>\n",
              "      <td>after playing for years now its time to update...</td>\n",
              "      <td>[after, playing, for, years, now, its, time, t...</td>\n",
              "      <td>[playing, years, time, update, review, game, a...</td>\n",
              "      <td>[play, year, time, updat, review, game, addict...</td>\n",
              "      <td>play year time updat review game addict amount...</td>\n",
              "    </tr>\n",
              "    <tr>\n",
              "      <th>4</th>\n",
              "      <td>The game is fun and addicting, but also extrem...</td>\n",
              "      <td>The game is fun and addicting but also extreme...</td>\n",
              "      <td>the game is fun and addicting but also extreme...</td>\n",
              "      <td>[the, game, is, fun, and, addicting, but, also...</td>\n",
              "      <td>[game, fun, addicting, also, extremely, frustr...</td>\n",
              "      <td>[game, fun, addict, also, extrem, frustrat, am...</td>\n",
              "      <td>game fun addict also extrem frustrat amount sl...</td>\n",
              "    </tr>\n",
              "  </tbody>\n",
              "</table>\n",
              "</div>"
            ],
            "text/plain": [
              "                                             content  \\\n",
              "0  Game is very fun and helps you learn about pla...   \n",
              "1  Would rate it higher, but the physics in this ...   \n",
              "2  This game is straight up fixed. Insane English...   \n",
              "3  After playing for years now it's time to updat...   \n",
              "4  The game is fun and addicting, but also extrem...   \n",
              "\n",
              "                                          text_clean  \\\n",
              "0  Game is very fun and helps you learn about pla...   \n",
              "1  Would rate it higher but the physics in this g...   \n",
              "2  This game is straight up fixed Insane English ...   \n",
              "3  After playing for years now its time to update...   \n",
              "4  The game is fun and addicting but also extreme...   \n",
              "\n",
              "                                text_casefoldingText  \\\n",
              "0  game is very fun and helps you learn about pla...   \n",
              "1  would rate it higher but the physics in this g...   \n",
              "2  this game is straight up fixed insane english ...   \n",
              "3  after playing for years now its time to update...   \n",
              "4  the game is fun and addicting but also extreme...   \n",
              "\n",
              "                                 text_tokenizingText  \\\n",
              "0  [game, is, very, fun, and, helps, you, learn, ...   \n",
              "1  [would, rate, it, higher, but, the, physics, i...   \n",
              "2  [this, game, is, straight, up, fixed, insane, ...   \n",
              "3  [after, playing, for, years, now, its, time, t...   \n",
              "4  [the, game, is, fun, and, addicting, but, also...   \n",
              "\n",
              "                                       text_stopword  \\\n",
              "0  [game, fun, helps, learn, playing, game, real,...   \n",
              "1  [would, rate, higher, physics, game, inconsist...   \n",
              "2  [game, straight, fixed, insane, english, didnt...   \n",
              "3  [playing, years, time, update, review, game, a...   \n",
              "4  [game, fun, addicting, also, extremely, frustr...   \n",
              "\n",
              "                                   text_stemmingText  \\\n",
              "0  [game, fun, help, learn, play, game, real, rig...   \n",
              "1  [would, rate, higher, physic, game, inconsist,...   \n",
              "2  [game, straight, fix, insan, english, didnt, s...   \n",
              "3  [play, year, time, updat, review, game, addict...   \n",
              "4  [game, fun, addict, also, extrem, frustrat, am...   \n",
              "\n",
              "                                          text_akhir  \n",
              "0  game fun help learn play game real rig opinion...  \n",
              "1  would rate higher physic game inconsist exampl...  \n",
              "2  game straight fix insan english didnt set appl...  \n",
              "3  play year time updat review game addict amount...  \n",
              "4  game fun addict also extrem frustrat amount sl...  "
            ]
          },
          "execution_count": 13,
          "metadata": {},
          "output_type": "execute_result"
        }
      ],
      "source": [
        "clean_df.head(5)"
      ]
    },
    {
      "cell_type": "markdown",
      "metadata": {
        "id": "VZ9ga0lqk43D"
      },
      "source": [
        "## Labelling"
      ]
    },
    {
      "cell_type": "code",
      "execution_count": 14,
      "metadata": {},
      "outputs": [
        {
          "name": "stdout",
          "output_type": "stream",
          "text": [
            "CPU times: user 17.6 s, sys: 35.9 ms, total: 17.6 s\n",
            "Wall time: 17.9 s\n"
          ]
        },
        {
          "data": {
            "text/html": [
              "<div>\n",
              "<style scoped>\n",
              "    .dataframe tbody tr th:only-of-type {\n",
              "        vertical-align: middle;\n",
              "    }\n",
              "\n",
              "    .dataframe tbody tr th {\n",
              "        vertical-align: top;\n",
              "    }\n",
              "\n",
              "    .dataframe thead th {\n",
              "        text-align: right;\n",
              "    }\n",
              "</style>\n",
              "<table border=\"1\" class=\"dataframe\">\n",
              "  <thead>\n",
              "    <tr style=\"text-align: right;\">\n",
              "      <th></th>\n",
              "      <th>content</th>\n",
              "      <th>text_clean</th>\n",
              "      <th>text_casefoldingText</th>\n",
              "      <th>text_tokenizingText</th>\n",
              "      <th>text_stopword</th>\n",
              "      <th>text_stemmingText</th>\n",
              "      <th>text_akhir</th>\n",
              "      <th>polarity</th>\n",
              "    </tr>\n",
              "  </thead>\n",
              "  <tbody>\n",
              "    <tr>\n",
              "      <th>0</th>\n",
              "      <td>Game is very fun and helps you learn about pla...</td>\n",
              "      <td>Game is very fun and helps you learn about pla...</td>\n",
              "      <td>game is very fun and helps you learn about pla...</td>\n",
              "      <td>[game, is, very, fun, and, helps, you, learn, ...</td>\n",
              "      <td>[game, fun, helps, learn, playing, game, real,...</td>\n",
              "      <td>[game, fun, help, learn, play, game, real, rig...</td>\n",
              "      <td>game fun help learn play game real rig opinion...</td>\n",
              "      <td>0.088889</td>\n",
              "    </tr>\n",
              "    <tr>\n",
              "      <th>1</th>\n",
              "      <td>Would rate it higher, but the physics in this ...</td>\n",
              "      <td>Would rate it higher but the physics in this g...</td>\n",
              "      <td>would rate it higher but the physics in this g...</td>\n",
              "      <td>[would, rate, it, higher, but, the, physics, i...</td>\n",
              "      <td>[would, rate, higher, physics, game, inconsist...</td>\n",
              "      <td>[would, rate, higher, physic, game, inconsist,...</td>\n",
              "      <td>would rate higher physic game inconsist exampl...</td>\n",
              "      <td>-0.012245</td>\n",
              "    </tr>\n",
              "  </tbody>\n",
              "</table>\n",
              "</div>"
            ],
            "text/plain": [
              "                                             content  \\\n",
              "0  Game is very fun and helps you learn about pla...   \n",
              "1  Would rate it higher, but the physics in this ...   \n",
              "\n",
              "                                          text_clean  \\\n",
              "0  Game is very fun and helps you learn about pla...   \n",
              "1  Would rate it higher but the physics in this g...   \n",
              "\n",
              "                                text_casefoldingText  \\\n",
              "0  game is very fun and helps you learn about pla...   \n",
              "1  would rate it higher but the physics in this g...   \n",
              "\n",
              "                                 text_tokenizingText  \\\n",
              "0  [game, is, very, fun, and, helps, you, learn, ...   \n",
              "1  [would, rate, it, higher, but, the, physics, i...   \n",
              "\n",
              "                                       text_stopword  \\\n",
              "0  [game, fun, helps, learn, playing, game, real,...   \n",
              "1  [would, rate, higher, physics, game, inconsist...   \n",
              "\n",
              "                                   text_stemmingText  \\\n",
              "0  [game, fun, help, learn, play, game, real, rig...   \n",
              "1  [would, rate, higher, physic, game, inconsist,...   \n",
              "\n",
              "                                          text_akhir  polarity  \n",
              "0  game fun help learn play game real rig opinion...  0.088889  \n",
              "1  would rate higher physic game inconsist exampl... -0.012245  "
            ]
          },
          "execution_count": 14,
          "metadata": {},
          "output_type": "execute_result"
        }
      ],
      "source": [
        "%%time\n",
        "clean_df['polarity'] = clean_df['text_akhir'].apply(lambda x: TextBlob(x).sentiment.polarity)\n",
        "clean_df.head(2)"
      ]
    },
    {
      "cell_type": "code",
      "execution_count": 15,
      "metadata": {},
      "outputs": [
        {
          "data": {
            "text/html": [
              "<div>\n",
              "<style scoped>\n",
              "    .dataframe tbody tr th:only-of-type {\n",
              "        vertical-align: middle;\n",
              "    }\n",
              "\n",
              "    .dataframe tbody tr th {\n",
              "        vertical-align: top;\n",
              "    }\n",
              "\n",
              "    .dataframe thead th {\n",
              "        text-align: right;\n",
              "    }\n",
              "</style>\n",
              "<table border=\"1\" class=\"dataframe\">\n",
              "  <thead>\n",
              "    <tr style=\"text-align: right;\">\n",
              "      <th></th>\n",
              "      <th>content</th>\n",
              "      <th>text_clean</th>\n",
              "      <th>text_casefoldingText</th>\n",
              "      <th>text_tokenizingText</th>\n",
              "      <th>text_stopword</th>\n",
              "      <th>text_stemmingText</th>\n",
              "      <th>text_akhir</th>\n",
              "      <th>polarity</th>\n",
              "      <th>label</th>\n",
              "    </tr>\n",
              "  </thead>\n",
              "  <tbody>\n",
              "    <tr>\n",
              "      <th>0</th>\n",
              "      <td>Game is very fun and helps you learn about pla...</td>\n",
              "      <td>Game is very fun and helps you learn about pla...</td>\n",
              "      <td>game is very fun and helps you learn about pla...</td>\n",
              "      <td>[game, is, very, fun, and, helps, you, learn, ...</td>\n",
              "      <td>[game, fun, helps, learn, playing, game, real,...</td>\n",
              "      <td>[game, fun, help, learn, play, game, real, rig...</td>\n",
              "      <td>game fun help learn play game real rig opinion...</td>\n",
              "      <td>0.088889</td>\n",
              "      <td>pos</td>\n",
              "    </tr>\n",
              "    <tr>\n",
              "      <th>1</th>\n",
              "      <td>Would rate it higher, but the physics in this ...</td>\n",
              "      <td>Would rate it higher but the physics in this g...</td>\n",
              "      <td>would rate it higher but the physics in this g...</td>\n",
              "      <td>[would, rate, it, higher, but, the, physics, i...</td>\n",
              "      <td>[would, rate, higher, physics, game, inconsist...</td>\n",
              "      <td>[would, rate, higher, physic, game, inconsist,...</td>\n",
              "      <td>would rate higher physic game inconsist exampl...</td>\n",
              "      <td>-0.012245</td>\n",
              "      <td>neg</td>\n",
              "    </tr>\n",
              "  </tbody>\n",
              "</table>\n",
              "</div>"
            ],
            "text/plain": [
              "                                             content  \\\n",
              "0  Game is very fun and helps you learn about pla...   \n",
              "1  Would rate it higher, but the physics in this ...   \n",
              "\n",
              "                                          text_clean  \\\n",
              "0  Game is very fun and helps you learn about pla...   \n",
              "1  Would rate it higher but the physics in this g...   \n",
              "\n",
              "                                text_casefoldingText  \\\n",
              "0  game is very fun and helps you learn about pla...   \n",
              "1  would rate it higher but the physics in this g...   \n",
              "\n",
              "                                 text_tokenizingText  \\\n",
              "0  [game, is, very, fun, and, helps, you, learn, ...   \n",
              "1  [would, rate, it, higher, but, the, physics, i...   \n",
              "\n",
              "                                       text_stopword  \\\n",
              "0  [game, fun, helps, learn, playing, game, real,...   \n",
              "1  [would, rate, higher, physics, game, inconsist...   \n",
              "\n",
              "                                   text_stemmingText  \\\n",
              "0  [game, fun, help, learn, play, game, real, rig...   \n",
              "1  [would, rate, higher, physic, game, inconsist,...   \n",
              "\n",
              "                                          text_akhir  polarity label  \n",
              "0  game fun help learn play game real rig opinion...  0.088889   pos  \n",
              "1  would rate higher physic game inconsist exampl... -0.012245   neg  "
            ]
          },
          "execution_count": 15,
          "metadata": {},
          "output_type": "execute_result"
        }
      ],
      "source": [
        "def polarity_to_label(x):\n",
        "    if(x >= -1 and x < 0):\n",
        "        return 'neg'\n",
        "    if(x == 0):\n",
        "        return 'neutral'\n",
        "    if(x > 0 and x <= 1):\n",
        "        return 'pos'\n",
        "\n",
        "clean_df['label'] = clean_df['polarity'].apply(polarity_to_label)\n",
        "clean_df.head(2)"
      ]
    },
    {
      "cell_type": "markdown",
      "metadata": {
        "id": "KS4DsGiXgRG0"
      },
      "source": [
        "## Imbalance Data Handling"
      ]
    },
    {
      "cell_type": "code",
      "execution_count": 17,
      "metadata": {
        "colab": {
          "base_uri": "https://localhost:8080/",
          "height": 141
        },
        "id": "t05xopgygVde",
        "outputId": "64042106-9a4d-4f3a-fca5-10a4bc5f5c01"
      },
      "outputs": [
        {
          "data": {
            "text/plain": [
              "label\n",
              "neg        42812\n",
              "pos        42449\n",
              "neutral     8324\n",
              "Name: count, dtype: int64"
            ]
          },
          "execution_count": 17,
          "metadata": {},
          "output_type": "execute_result"
        }
      ],
      "source": [
        "clean_df.value_counts('label')"
      ]
    },
    {
      "cell_type": "code",
      "execution_count": 18,
      "metadata": {
        "colab": {
          "base_uri": "https://localhost:8080/"
        },
        "id": "gKvbTMmPgg2g",
        "outputId": "b0493c2c-1857-41df-899f-c3d0c4e1feb1"
      },
      "outputs": [
        {
          "name": "stdout",
          "output_type": "stream",
          "text": [
            "(8000, 9)\n",
            "(8000, 9)\n",
            "(8000, 9)\n"
          ]
        }
      ],
      "source": [
        "# Pisahkan DataFrame berdasarkan kategori label\n",
        "positive_df = clean_df[clean_df['label'] == 'pos'].iloc[:8000]\n",
        "neutral_df = clean_df[clean_df['label'] == 'neutral'].iloc[:8000]\n",
        "negative_df = clean_df[clean_df['label'] == 'neg'].iloc[:8000]\n",
        "\n",
        "print(positive_df.shape)\n",
        "print(neutral_df.shape)\n",
        "print(negative_df.shape)"
      ]
    },
    {
      "cell_type": "code",
      "execution_count": 19,
      "metadata": {
        "colab": {
          "base_uri": "https://localhost:8080/"
        },
        "id": "WiYduY_8hyUD",
        "outputId": "ab076a17-318f-4c62-e580-214c3cca30cf"
      },
      "outputs": [
        {
          "data": {
            "text/html": [
              "<div>\n",
              "<style scoped>\n",
              "    .dataframe tbody tr th:only-of-type {\n",
              "        vertical-align: middle;\n",
              "    }\n",
              "\n",
              "    .dataframe tbody tr th {\n",
              "        vertical-align: top;\n",
              "    }\n",
              "\n",
              "    .dataframe thead th {\n",
              "        text-align: right;\n",
              "    }\n",
              "</style>\n",
              "<table border=\"1\" class=\"dataframe\">\n",
              "  <thead>\n",
              "    <tr style=\"text-align: right;\">\n",
              "      <th></th>\n",
              "      <th>content</th>\n",
              "      <th>text_clean</th>\n",
              "      <th>text_casefoldingText</th>\n",
              "      <th>text_tokenizingText</th>\n",
              "      <th>text_stopword</th>\n",
              "      <th>text_stemmingText</th>\n",
              "      <th>text_akhir</th>\n",
              "      <th>polarity</th>\n",
              "      <th>label</th>\n",
              "    </tr>\n",
              "  </thead>\n",
              "  <tbody>\n",
              "    <tr>\n",
              "      <th>0</th>\n",
              "      <td>Game is very fun and helps you learn about pla...</td>\n",
              "      <td>Game is very fun and helps you learn about pla...</td>\n",
              "      <td>game is very fun and helps you learn about pla...</td>\n",
              "      <td>[game, is, very, fun, and, helps, you, learn, ...</td>\n",
              "      <td>[game, fun, helps, learn, playing, game, real,...</td>\n",
              "      <td>[game, fun, help, learn, play, game, real, rig...</td>\n",
              "      <td>game fun help learn play game real rig opinion...</td>\n",
              "      <td>0.088889</td>\n",
              "      <td>pos</td>\n",
              "    </tr>\n",
              "    <tr>\n",
              "      <th>1</th>\n",
              "      <td>This game is straight up fixed. Insane English...</td>\n",
              "      <td>This game is straight up fixed Insane English ...</td>\n",
              "      <td>this game is straight up fixed insane english ...</td>\n",
              "      <td>[this, game, is, straight, up, fixed, insane, ...</td>\n",
              "      <td>[game, straight, fixed, insane, english, didnt...</td>\n",
              "      <td>[game, straight, fix, insan, english, didnt, s...</td>\n",
              "      <td>game straight fix insan english didnt set appl...</td>\n",
              "      <td>0.020000</td>\n",
              "      <td>pos</td>\n",
              "    </tr>\n",
              "    <tr>\n",
              "      <th>2</th>\n",
              "      <td>Once you get above Silver League, it's almost ...</td>\n",
              "      <td>Once you get above Silver League its almost im...</td>\n",
              "      <td>once you get above silver league its almost im...</td>\n",
              "      <td>[once, you, get, above, silver, league, its, a...</td>\n",
              "      <td>[get, silver, league, almost, impossible, win,...</td>\n",
              "      <td>[get, silver, leagu, almost, imposs, win, game...</td>\n",
              "      <td>get silver leagu almost imposs win game row wi...</td>\n",
              "      <td>0.100000</td>\n",
              "      <td>pos</td>\n",
              "    </tr>\n",
              "    <tr>\n",
              "      <th>3</th>\n",
              "      <td>So. Much. Fun! So much more than just pool. Th...</td>\n",
              "      <td>So Much Fun So much more than just pool Theres...</td>\n",
              "      <td>so much fun so much more than just pool theres...</td>\n",
              "      <td>[so, much, fun, so, much, more, than, just, po...</td>\n",
              "      <td>[much, fun, much, pool, theres, items, collect...</td>\n",
              "      <td>[much, fun, much, pool, there, item, collect, ...</td>\n",
              "      <td>much fun much pool there item collect upgrad l...</td>\n",
              "      <td>0.248485</td>\n",
              "      <td>pos</td>\n",
              "    </tr>\n",
              "    <tr>\n",
              "      <th>4</th>\n",
              "      <td>It's pretty good if you consistently pay for p...</td>\n",
              "      <td>Its pretty good if you consistently pay for pa...</td>\n",
              "      <td>its pretty good if you consistently pay for pa...</td>\n",
              "      <td>[its, pretty, good, if, you, consistently, pay...</td>\n",
              "      <td>[pretty, good, consistently, pay, pass, dont, ...</td>\n",
              "      <td>[pretti, good, consist, pay, pass, dont, good,...</td>\n",
              "      <td>pretti good consist pay pass dont good luck ge...</td>\n",
              "      <td>0.286429</td>\n",
              "      <td>pos</td>\n",
              "    </tr>\n",
              "  </tbody>\n",
              "</table>\n",
              "</div>"
            ],
            "text/plain": [
              "                                             content  \\\n",
              "0  Game is very fun and helps you learn about pla...   \n",
              "1  This game is straight up fixed. Insane English...   \n",
              "2  Once you get above Silver League, it's almost ...   \n",
              "3  So. Much. Fun! So much more than just pool. Th...   \n",
              "4  It's pretty good if you consistently pay for p...   \n",
              "\n",
              "                                          text_clean  \\\n",
              "0  Game is very fun and helps you learn about pla...   \n",
              "1  This game is straight up fixed Insane English ...   \n",
              "2  Once you get above Silver League its almost im...   \n",
              "3  So Much Fun So much more than just pool Theres...   \n",
              "4  Its pretty good if you consistently pay for pa...   \n",
              "\n",
              "                                text_casefoldingText  \\\n",
              "0  game is very fun and helps you learn about pla...   \n",
              "1  this game is straight up fixed insane english ...   \n",
              "2  once you get above silver league its almost im...   \n",
              "3  so much fun so much more than just pool theres...   \n",
              "4  its pretty good if you consistently pay for pa...   \n",
              "\n",
              "                                 text_tokenizingText  \\\n",
              "0  [game, is, very, fun, and, helps, you, learn, ...   \n",
              "1  [this, game, is, straight, up, fixed, insane, ...   \n",
              "2  [once, you, get, above, silver, league, its, a...   \n",
              "3  [so, much, fun, so, much, more, than, just, po...   \n",
              "4  [its, pretty, good, if, you, consistently, pay...   \n",
              "\n",
              "                                       text_stopword  \\\n",
              "0  [game, fun, helps, learn, playing, game, real,...   \n",
              "1  [game, straight, fixed, insane, english, didnt...   \n",
              "2  [get, silver, league, almost, impossible, win,...   \n",
              "3  [much, fun, much, pool, theres, items, collect...   \n",
              "4  [pretty, good, consistently, pay, pass, dont, ...   \n",
              "\n",
              "                                   text_stemmingText  \\\n",
              "0  [game, fun, help, learn, play, game, real, rig...   \n",
              "1  [game, straight, fix, insan, english, didnt, s...   \n",
              "2  [get, silver, leagu, almost, imposs, win, game...   \n",
              "3  [much, fun, much, pool, there, item, collect, ...   \n",
              "4  [pretti, good, consist, pay, pass, dont, good,...   \n",
              "\n",
              "                                          text_akhir  polarity label  \n",
              "0  game fun help learn play game real rig opinion...  0.088889   pos  \n",
              "1  game straight fix insan english didnt set appl...  0.020000   pos  \n",
              "2  get silver leagu almost imposs win game row wi...  0.100000   pos  \n",
              "3  much fun much pool there item collect upgrad l...  0.248485   pos  \n",
              "4  pretti good consist pay pass dont good luck ge...  0.286429   pos  "
            ]
          },
          "execution_count": 19,
          "metadata": {},
          "output_type": "execute_result"
        }
      ],
      "source": [
        "# Gabungkan kembali DataFrame\n",
        "balanced_df = pd.concat([positive_df, neutral_df, negative_df])\n",
        "\n",
        "# Reset index DataFrame\n",
        "balanced_df = balanced_df.reset_index(drop=True)\n",
        "\n",
        "# Display the balanced DataFrame\n",
        "balanced_df.head()"
      ]
    },
    {
      "cell_type": "markdown",
      "metadata": {},
      "source": [
        "# Deep Learning"
      ]
    },
    {
      "cell_type": "code",
      "execution_count": 21,
      "metadata": {},
      "outputs": [
        {
          "name": "stderr",
          "output_type": "stream",
          "text": [
            "2024-07-21 23:49:56.684869: I external/local_xla/xla/tsl/cuda/cudart_stub.cc:32] Could not find cuda drivers on your machine, GPU will not be used.\n",
            "2024-07-21 23:49:56.688943: I external/local_xla/xla/tsl/cuda/cudart_stub.cc:32] Could not find cuda drivers on your machine, GPU will not be used.\n",
            "2024-07-21 23:49:56.699428: E external/local_xla/xla/stream_executor/cuda/cuda_fft.cc:485] Unable to register cuFFT factory: Attempting to register factory for plugin cuFFT when one has already been registered\n",
            "2024-07-21 23:49:56.718907: E external/local_xla/xla/stream_executor/cuda/cuda_dnn.cc:8454] Unable to register cuDNN factory: Attempting to register factory for plugin cuDNN when one has already been registered\n",
            "2024-07-21 23:49:56.724895: E external/local_xla/xla/stream_executor/cuda/cuda_blas.cc:1452] Unable to register cuBLAS factory: Attempting to register factory for plugin cuBLAS when one has already been registered\n",
            "2024-07-21 23:49:56.740513: I tensorflow/core/platform/cpu_feature_guard.cc:210] This TensorFlow binary is optimized to use available CPU instructions in performance-critical operations.\n",
            "To enable the following instructions: AVX2 FMA, in other operations, rebuild TensorFlow with the appropriate compiler flags.\n",
            "2024-07-21 23:49:57.888855: W tensorflow/compiler/tf2tensorrt/utils/py_utils.cc:38] TF-TRT Warning: Could not find TensorRT\n"
          ]
        }
      ],
      "source": [
        "from tensorflow.keras.preprocessing.text import Tokenizer\n",
        "from tensorflow.keras.preprocessing.sequence import pad_sequences\n",
        "from tensorflow.keras.layers import Dense, LSTM, BatchNormalization, Dropout, Input\n",
        "from tensorflow.keras.optimizers import Adam\n",
        "from tensorflow.keras.losses import CategoricalCrossentropy as CC\n",
        "from tensorflow.keras.activations import relu, softmax\n",
        "from tensorflow.keras.initializers import he_uniform, glorot_uniform\n",
        "from tensorflow.keras.metrics import AUC\n",
        "from tensorflow.keras import Model\n",
        "from tensorflow.keras.regularizers import l2\n",
        "import tensorflow as tf"
      ]
    },
    {
      "cell_type": "code",
      "execution_count": 24,
      "metadata": {},
      "outputs": [
        {
          "data": {
            "text/plain": [
              "array(['game fun help learn play game real rig opinion set lose your good cue ball mind especi lot coin line oppon alway seem one break time know english work sometim seem opposit find way pocket behind oppon ball rig sure still fun',\n",
              "       'game straight fix insan english didnt set appli cue make scratch way never could real tabl real life constant strang leav consist elimin run wick fraud run tabl win game babi could make open shot game engin result shot youv warn',\n",
              "       'get silver leagu almost imposs win game row without spend money came back old account hadnt use win game fairli easili got gold leagu could win mayb everi five game ive oppon run tabl flawlessli sink everi shot cue ball seem mind find way pocket etc game rig cash grab',\n",
              "       ...,\n",
              "       'origin star star match make spoil game lot coin place last game peopl rank level higher even get shot time wont play til issu sort',\n",
              "       'ball clearli hit cushion st contact ball still deem foul hit cushion hit cushion flush still foul call hasnt happen happen late though also player clearli cheat use cheat code hack irritar even player time actual player either bot develop person',\n",
              "       'like game use facebook log know much annoy notif gon na keep spam'],\n",
              "      dtype=object)"
            ]
          },
          "execution_count": 24,
          "metadata": {},
          "output_type": "execute_result"
        }
      ],
      "source": [
        "text_data = balanced_df['text_akhir'].astype(str).values\n",
        "text_data"
      ]
    },
    {
      "cell_type": "code",
      "execution_count": 25,
      "metadata": {},
      "outputs": [
        {
          "name": "stdout",
          "output_type": "stream",
          "text": [
            "Found 16446 unique tokens.\n"
          ]
        }
      ],
      "source": [
        "# The maximum number of words to be used. (most frequent)\n",
        "MAX_NB_WORDS = 50000\n",
        "# Max number of words in each complaint.\n",
        "MAX_SEQUENCE_LENGTH = 250\n",
        "# This is fixed.\n",
        "EMBEDDING_DIM = 100\n",
        "tokenizer = Tokenizer(num_words=MAX_NB_WORDS)\n",
        "tokenizer.fit_on_texts(text_data)\n",
        "word_index = tokenizer.word_index\n",
        "print('Found %s unique tokens.' % len(word_index))"
      ]
    },
    {
      "cell_type": "code",
      "execution_count": 26,
      "metadata": {},
      "outputs": [
        {
          "name": "stdout",
          "output_type": "stream",
          "text": [
            "Shape of data tensor: (24000, 250)\n"
          ]
        }
      ],
      "source": [
        "X = tokenizer.texts_to_sequences(text_data)\n",
        "X = pad_sequences(X, maxlen=MAX_SEQUENCE_LENGTH)\n",
        "print('Shape of data tensor:', X.shape)"
      ]
    },
    {
      "cell_type": "code",
      "execution_count": 27,
      "metadata": {},
      "outputs": [
        {
          "name": "stdout",
          "output_type": "stream",
          "text": [
            "Shape of label tensor: (24000, 3)\n"
          ]
        }
      ],
      "source": [
        "Y = pd.get_dummies(balanced_df['label']).values\n",
        "print('Shape of label tensor:', Y.shape)"
      ]
    },
    {
      "cell_type": "code",
      "execution_count": 28,
      "metadata": {},
      "outputs": [
        {
          "name": "stdout",
          "output_type": "stream",
          "text": [
            "(21600, 250) (21600, 3)\n",
            "(2400, 250) (2400, 3)\n"
          ]
        }
      ],
      "source": [
        "X_train, X_test, Y_train, Y_test = train_test_split(X,Y, test_size = 0.10, random_state = 42)\n",
        "print(X_train.shape,Y_train.shape)\n",
        "print(X_test.shape,Y_test.shape)"
      ]
    },
    {
      "cell_type": "code",
      "execution_count": 36,
      "metadata": {},
      "outputs": [],
      "source": [
        "from tensorflow.keras.models import Sequential\n",
        "from tensorflow.keras.layers import Embedding\n",
        "from tensorflow.keras.layers import SpatialDropout1D\n",
        "from tensorflow.keras.callbacks import EarlyStopping"
      ]
    },
    {
      "cell_type": "markdown",
      "metadata": {},
      "source": [
        "## RNN"
      ]
    },
    {
      "cell_type": "markdown",
      "metadata": {},
      "source": [
        "### LSTM"
      ]
    },
    {
      "cell_type": "code",
      "execution_count": 38,
      "metadata": {},
      "outputs": [
        {
          "name": "stdout",
          "output_type": "stream",
          "text": [
            "Epoch 1/5\n",
            "\u001b[1m304/304\u001b[0m \u001b[32m━━━━━━━━━━━━━━━━━━━━\u001b[0m\u001b[37m\u001b[0m \u001b[1m73s\u001b[0m 232ms/step - accuracy: 0.6131 - loss: 0.8014 - val_accuracy: 0.8606 - val_loss: 0.3571\n",
            "Epoch 2/5\n",
            "\u001b[1m304/304\u001b[0m \u001b[32m━━━━━━━━━━━━━━━━━━━━\u001b[0m\u001b[37m\u001b[0m \u001b[1m107s\u001b[0m 316ms/step - accuracy: 0.8862 - loss: 0.3121 - val_accuracy: 0.8972 - val_loss: 0.2665\n",
            "Epoch 3/5\n",
            "\u001b[1m304/304\u001b[0m \u001b[32m━━━━━━━━━━━━━━━━━━━━\u001b[0m\u001b[37m\u001b[0m \u001b[1m100s\u001b[0m 330ms/step - accuracy: 0.9304 - loss: 0.1962 - val_accuracy: 0.9120 - val_loss: 0.2465\n",
            "Epoch 4/5\n",
            "\u001b[1m304/304\u001b[0m \u001b[32m━━━━━━━━━━━━━━━━━━━━\u001b[0m\u001b[37m\u001b[0m \u001b[1m74s\u001b[0m 240ms/step - accuracy: 0.9538 - loss: 0.1379 - val_accuracy: 0.9153 - val_loss: 0.2520\n",
            "Epoch 5/5\n",
            "\u001b[1m304/304\u001b[0m \u001b[32m━━━━━━━━━━━━━━━━━━━━\u001b[0m\u001b[37m\u001b[0m \u001b[1m68s\u001b[0m 223ms/step - accuracy: 0.9645 - loss: 0.1101 - val_accuracy: 0.9204 - val_loss: 0.2471\n"
          ]
        }
      ],
      "source": [
        "model = Sequential()\n",
        "model.add(Embedding(MAX_NB_WORDS, EMBEDDING_DIM, input_length=X.shape[1]))\n",
        "model.add(SpatialDropout1D(0.2))\n",
        "model.add(LSTM(100, dropout=0.2, recurrent_dropout=0.2))\n",
        "model.add(Dense(3, activation='softmax'))\n",
        "model.compile(loss='categorical_crossentropy', optimizer='adam', metrics=['accuracy'])\n",
        "\n",
        "epochs = 5\n",
        "batch_size = 64\n",
        "\n",
        "history = model.fit(X_train, Y_train, epochs=epochs, batch_size=batch_size, validation_split=0.1, callbacks=[EarlyStopping(monitor='val_loss', patience=3, min_delta=0.0001)])"
      ]
    },
    {
      "cell_type": "code",
      "execution_count": 39,
      "metadata": {},
      "outputs": [
        {
          "name": "stdout",
          "output_type": "stream",
          "text": [
            "\u001b[1m75/75\u001b[0m \u001b[32m━━━━━━━━━━━━━━━━━━━━\u001b[0m\u001b[37m\u001b[0m \u001b[1m2s\u001b[0m 24ms/step - accuracy: 0.9312 - loss: 0.2161\n",
            "Test set\n",
            "  Loss: 0.215\n",
            "  Accuracy: 0.930\n"
          ]
        }
      ],
      "source": [
        "accr = model.evaluate(X_test,Y_test)\n",
        "print('Test set\\n  Loss: {:0.3f}\\n  Accuracy: {:0.3f}'.format(accr[0],accr[1]))"
      ]
    },
    {
      "cell_type": "code",
      "execution_count": 40,
      "metadata": {},
      "outputs": [
        {
          "data": {
            "image/png": "[encoded data removed]",
            "text/plain": [
              "<Figure size 640x480 with 1 Axes>"
            ]
          },
          "metadata": {},
          "output_type": "display_data"
        }
      ],
      "source": [
        "plt.title('Loss')\n",
        "plt.plot(history.history['loss'], label='train')\n",
        "plt.plot(history.history['val_loss'], label='test')\n",
        "plt.legend()\n",
        "plt.show()"
      ]
    },
    {
      "cell_type": "code",
      "execution_count": 45,
      "metadata": {},
      "outputs": [
        {
          "data": {
            "image/png": "[encoded data removed]",
            "text/plain": [
              "<Figure size 640x480 with 1 Axes>"
            ]
          },
          "metadata": {},
          "output_type": "display_data"
        }
      ],
      "source": [
        "plt.title('Accuracy')\n",
        "plt.plot(history.history['accuracy'], label='train')\n",
        "plt.plot(history.history['val_accuracy'], label='test')\n",
        "plt.legend()\n",
        "plt.show()"
      ]
    },
    {
      "cell_type": "code",
      "execution_count": 54,
      "metadata": {},
      "outputs": [
        {
          "name": "stdout",
          "output_type": "stream",
          "text": [
            "\u001b[1m1/1\u001b[0m \u001b[32m━━━━━━━━━━━━━━━━━━━━\u001b[0m\u001b[37m\u001b[0m \u001b[1m0s\u001b[0m 34ms/step\n",
            "[[9.9838150e-01 4.0240123e-04 1.2160874e-03]] neg\n"
          ]
        }
      ],
      "source": [
        "new_review = ['''Very upsetting, I had a few million coins when the dang game started glitching, I would make a shot and the game would glitch and you could clearly see that the shot went in but the screen would flàsh and the balls would be right back like they were before I shot. And the opponent would have ball in hand. Then for some ungodly reason the game restarted and almost all of my coins were gone!!!!! There should be some way to get them back since it was the game that took them. About ready to delete!!''']\n",
        "seq = tokenizer.texts_to_sequences(new_review)\n",
        "padded = pad_sequences(seq, maxlen=MAX_SEQUENCE_LENGTH)\n",
        "pred = model.predict(padded)\n",
        "labels = ['neg', 'neutral', 'pos']\n",
        "print(pred, labels[np.argmax(pred)])"
      ]
    },
    {
      "cell_type": "markdown",
      "metadata": {},
      "source": [
        "### Bi-LSTM"
      ]
    },
    {
      "cell_type": "code",
      "execution_count": 64,
      "metadata": {},
      "outputs": [],
      "source": [
        "# Import Bidirectional\n",
        "from tensorflow.keras.layers import Bidirectional"
      ]
    },
    {
      "cell_type": "code",
      "execution_count": 65,
      "metadata": {},
      "outputs": [
        {
          "name": "stdout",
          "output_type": "stream",
          "text": [
            "Epoch 1/5\n",
            "\u001b[1m304/304\u001b[0m \u001b[32m━━━━━━━━━━━━━━━━━━━━\u001b[0m\u001b[37m\u001b[0m \u001b[1m159s\u001b[0m 509ms/step - accuracy: 0.6019 - loss: 0.8131 - val_accuracy: 0.8597 - val_loss: 0.3656\n",
            "Epoch 2/5\n",
            "\u001b[1m304/304\u001b[0m \u001b[32m━━━━━━━━━━━━━━━━━━━━\u001b[0m\u001b[37m\u001b[0m \u001b[1m110s\u001b[0m 364ms/step - accuracy: 0.8832 - loss: 0.3094 - val_accuracy: 0.9019 - val_loss: 0.2684\n",
            "Epoch 3/5\n",
            "\u001b[1m304/304\u001b[0m \u001b[32m━━━━━━━━━━━━━━━━━━━━\u001b[0m\u001b[37m\u001b[0m \u001b[1m129s\u001b[0m 320ms/step - accuracy: 0.9333 - loss: 0.1959 - val_accuracy: 0.9144 - val_loss: 0.2446\n",
            "Epoch 4/5\n",
            "\u001b[1m304/304\u001b[0m \u001b[32m━━━━━━━━━━━━━━━━━━━━\u001b[0m\u001b[37m\u001b[0m \u001b[1m101s\u001b[0m 332ms/step - accuracy: 0.9507 - loss: 0.1396 - val_accuracy: 0.9130 - val_loss: 0.2462\n",
            "Epoch 5/5\n",
            "\u001b[1m304/304\u001b[0m \u001b[32m━━━━━━━━━━━━━━━━━━━━\u001b[0m\u001b[37m\u001b[0m \u001b[1m120s\u001b[0m 263ms/step - accuracy: 0.9627 - loss: 0.1104 - val_accuracy: 0.9153 - val_loss: 0.2519\n"
          ]
        }
      ],
      "source": [
        "# Define the Bi-LSTM model architecture\n",
        "model = Sequential()\n",
        "model.add(Embedding(MAX_NB_WORDS, EMBEDDING_DIM, input_length=X.shape[1]))\n",
        "model.add(SpatialDropout1D(0.2))\n",
        "model.add(Bidirectional(LSTM(100, dropout=0.2, recurrent_dropout=0.2)))\n",
        "model.add(Dense(3, activation='softmax'))\n",
        "model.compile(loss='categorical_crossentropy', optimizer='adam', metrics=['accuracy'])\n",
        "\n",
        "# Train the model\n",
        "epochs = 5\n",
        "batch_size = 64\n",
        "\n",
        "history = model.fit(X_train, Y_train, epochs=epochs, batch_size=batch_size, validation_split=0.1, callbacks=[EarlyStopping(monitor='val_loss', patience=3, min_delta=0.0001)])"
      ]
    },
    {
      "cell_type": "code",
      "execution_count": 66,
      "metadata": {},
      "outputs": [
        {
          "name": "stdout",
          "output_type": "stream",
          "text": [
            "\u001b[1m75/75\u001b[0m \u001b[32m━━━━━━━━━━━━━━━━━━━━\u001b[0m\u001b[37m\u001b[0m \u001b[1m2s\u001b[0m 28ms/step - accuracy: 0.9315 - loss: 0.2159\n",
            "Test set\n",
            "  Loss: 0.216\n",
            "  Accuracy: 0.933\n"
          ]
        }
      ],
      "source": [
        "accr = model.evaluate(X_test,Y_test)\n",
        "print('Test set\\n  Loss: {:0.3f}\\n  Accuracy: {:0.3f}'.format(accr[0],accr[1]))"
      ]
    },
    {
      "cell_type": "code",
      "execution_count": 67,
      "metadata": {},
      "outputs": [
        {
          "data": {
            "image/png": "[encoded data removed]",
            "text/plain": [
              "<Figure size 640x480 with 1 Axes>"
            ]
          },
          "metadata": {},
          "output_type": "display_data"
        }
      ],
      "source": [
        "plt.title('Loss')\n",
        "plt.plot(history.history['loss'], label='train')\n",
        "plt.plot(history.history['val_loss'], label='test')\n",
        "plt.legend()\n",
        "plt.show()"
      ]
    },
    {
      "cell_type": "code",
      "execution_count": 68,
      "metadata": {},
      "outputs": [
        {
          "data": {
            "image/png": "[encoded data removed]",
            "text/plain": [
              "<Figure size 640x480 with 1 Axes>"
            ]
          },
          "metadata": {},
          "output_type": "display_data"
        }
      ],
      "source": [
        "plt.title('Accuracy')\n",
        "plt.plot(history.history['accuracy'], label='train')\n",
        "plt.plot(history.history['val_accuracy'], label='test')\n",
        "plt.legend()\n",
        "plt.show()"
      ]
    },
    {
      "cell_type": "code",
      "execution_count": 69,
      "metadata": {},
      "outputs": [
        {
          "name": "stdout",
          "output_type": "stream",
          "text": [
            "\u001b[1m1/1\u001b[0m \u001b[32m━━━━━━━━━━━━━━━━━━━━\u001b[0m\u001b[37m\u001b[0m \u001b[1m0s\u001b[0m 312ms/step\n",
            "[[9.9840158e-01 5.6272378e-04 1.0357207e-03]] neg\n"
          ]
        }
      ],
      "source": [
        "new_review = ['''Very upsetting, I had a few million coins when the dang game started glitching, I would make a shot and the game would glitch and you could clearly see that the shot went in but the screen would flàsh and the balls would be right back like they were before I shot. And the opponent would have ball in hand. Then for some ungodly reason the game restarted and almost all of my coins were gone!!!!! There should be some way to get them back since it was the game that took them. About ready to delete!!''']\n",
        "seq = tokenizer.texts_to_sequences(new_review)\n",
        "padded = pad_sequences(seq, maxlen=MAX_SEQUENCE_LENGTH)\n",
        "pred = model.predict(padded)\n",
        "labels = ['neg', 'neutral', 'pos']\n",
        "print(pred, labels[np.argmax(pred)])"
      ]
    },
    {
      "cell_type": "markdown",
      "metadata": {},
      "source": [
        "### GRU"
      ]
    },
    {
      "cell_type": "code",
      "execution_count": 55,
      "metadata": {},
      "outputs": [
        {
          "name": "stdout",
          "output_type": "stream",
          "text": [
            "Epoch 1/5\n"
          ]
        },
        {
          "name": "stderr",
          "output_type": "stream",
          "text": [
            "/home/bima/Documents/8BallPool_Sentiment_Analysis/.venv/lib/python3.11/site-packages/keras/src/layers/core/embedding.py:90: UserWarning: Argument `input_length` is deprecated. Just remove it.\n",
            "  warnings.warn(\n"
          ]
        },
        {
          "name": "stdout",
          "output_type": "stream",
          "text": [
            "\u001b[1m304/304\u001b[0m \u001b[32m━━━━━━━━━━━━━━━━━━━━\u001b[0m\u001b[37m\u001b[0m \u001b[1m88s\u001b[0m 279ms/step - accuracy: 0.4935 - loss: 62205017980928.0000 - val_accuracy: 0.5347 - val_loss: 0.9964\n",
            "Epoch 2/5\n",
            "\u001b[1m304/304\u001b[0m \u001b[32m━━━━━━━━━━━━━━━━━━━━\u001b[0m\u001b[37m\u001b[0m \u001b[1m106s\u001b[0m 350ms/step - accuracy: 0.6316 - loss: 0.8964 - val_accuracy: 0.5477 - val_loss: 0.9432\n",
            "Epoch 3/5\n",
            "\u001b[1m304/304\u001b[0m \u001b[32m━━━━━━━━━━━━━━━━━━━━\u001b[0m\u001b[37m\u001b[0m \u001b[1m145s\u001b[0m 359ms/step - accuracy: 0.6863 - loss: 0.7861 - val_accuracy: 0.5639 - val_loss: 0.9225\n",
            "Epoch 4/5\n",
            "\u001b[1m304/304\u001b[0m \u001b[32m━━━━━━━━━━━━━━━━━━━━\u001b[0m\u001b[37m\u001b[0m \u001b[1m124s\u001b[0m 401ms/step - accuracy: 0.7139 - loss: 0.7126 - val_accuracy: 0.5662 - val_loss: 0.9173\n",
            "Epoch 5/5\n",
            "\u001b[1m304/304\u001b[0m \u001b[32m━━━━━━━━━━━━━━━━━━━━\u001b[0m\u001b[37m\u001b[0m \u001b[1m143s\u001b[0m 409ms/step - accuracy: 0.7333 - loss: 6187958.0000 - val_accuracy: 0.5597 - val_loss: 0.9242\n"
          ]
        }
      ],
      "source": [
        "# GRU model\n",
        "from tensorflow.keras.layers import GRU\n",
        "\n",
        "model = Sequential()\n",
        "model.add(Embedding(MAX_NB_WORDS, EMBEDDING_DIM, input_length=X.shape[1]))\n",
        "model.add(SpatialDropout1D(0.2))\n",
        "model.add(GRU(100, dropout=0.2, recurrent_dropout=0.2))\n",
        "model.add(Dense(3, activation='softmax'))\n",
        "model.compile(loss='categorical_crossentropy', optimizer='adam', metrics=['accuracy'])\n",
        "\n",
        "epochs = 5\n",
        "batch_size = 64\n",
        "\n",
        "history = model.fit(X_train, Y_train, epochs=epochs, batch_size=batch_size, validation_split=0.1, callbacks=[EarlyStopping(monitor='val_loss', patience=3, min_delta=0.0001)])"
      ]
    },
    {
      "cell_type": "code",
      "execution_count": 59,
      "metadata": {},
      "outputs": [
        {
          "name": "stdout",
          "output_type": "stream",
          "text": [
            "\u001b[1m75/75\u001b[0m \u001b[32m━━━━━━━━━━━━━━━━━━━━\u001b[0m\u001b[37m\u001b[0m \u001b[1m2s\u001b[0m 27ms/step - accuracy: 0.5813 - loss: 0.8942\n",
            "Test set\n",
            "  Loss: 0.894\n",
            "  Accuracy: 0.585\n"
          ]
        }
      ],
      "source": [
        "accr = model.evaluate(X_test,Y_test)\n",
        "print('Test set\\n  Loss: {:0.3f}\\n  Accuracy: {:0.3f}'.format(accr[0],accr[1]))"
      ]
    },
    {
      "cell_type": "code",
      "execution_count": 60,
      "metadata": {},
      "outputs": [
        {
          "data": {
            "image/png": "[encoded data removed]",
            "text/plain": [
              "<Figure size 640x480 with 1 Axes>"
            ]
          },
          "metadata": {},
          "output_type": "display_data"
        }
      ],
      "source": [
        "plt.title('Loss')\n",
        "plt.plot(history.history['loss'], label='train')\n",
        "plt.plot(history.history['val_loss'], label='test')\n",
        "plt.legend()\n",
        "plt.show()"
      ]
    },
    {
      "cell_type": "code",
      "execution_count": 61,
      "metadata": {},
      "outputs": [
        {
          "data": {
            "image/png": "[encoded data removed]",
            "text/plain": [
              "<Figure size 640x480 with 1 Axes>"
            ]
          },
          "metadata": {},
          "output_type": "display_data"
        }
      ],
      "source": [
        "plt.title('Accuracy')\n",
        "plt.plot(history.history['accuracy'], label='train')\n",
        "plt.plot(history.history['val_accuracy'], label='test')\n",
        "plt.legend()\n",
        "plt.show()"
      ]
    },
    {
      "cell_type": "code",
      "execution_count": 62,
      "metadata": {},
      "outputs": [
        {
          "name": "stdout",
          "output_type": "stream",
          "text": [
            "\u001b[1m1/1\u001b[0m \u001b[32m━━━━━━━━━━━━━━━━━━━━\u001b[0m\u001b[37m\u001b[0m \u001b[1m0s\u001b[0m 238ms/step\n",
            "[[0.5582928  0.20157127 0.24013591]] neg\n"
          ]
        }
      ],
      "source": [
        "new_review = ['''Very upsetting, I had a few million coins when the dang game started glitching, I would make a shot and the game would glitch and you could clearly see that the shot went in but the screen would flàsh and the balls would be right back like they were before I shot. And the opponent would have ball in hand. Then for some ungodly reason the game restarted and almost all of my coins were gone!!!!! There should be some way to get them back since it was the game that took them. About ready to delete!!''']\n",
        "seq = tokenizer.texts_to_sequences(new_review)\n",
        "padded = pad_sequences(seq, maxlen=MAX_SEQUENCE_LENGTH)\n",
        "pred = model.predict(padded)\n",
        "labels = ['neg', 'neutral', 'pos']\n",
        "print(pred, labels[np.argmax(pred)])"
      ]
    },
    {
      "cell_type": "markdown",
      "metadata": {},
      "source": [
        "## CNN"
      ]
    },
    {
      "cell_type": "code",
      "execution_count": 71,
      "metadata": {},
      "outputs": [],
      "source": [
        "# CNN model\n",
        "from tensorflow.keras.layers import Conv1D, GlobalMaxPooling1D"
      ]
    },
    {
      "cell_type": "code",
      "execution_count": 72,
      "metadata": {},
      "outputs": [
        {
          "name": "stdout",
          "output_type": "stream",
          "text": [
            "Epoch 1/5\n"
          ]
        },
        {
          "name": "stderr",
          "output_type": "stream",
          "text": [
            "/home/bima/Documents/8BallPool_Sentiment_Analysis/.venv/lib/python3.11/site-packages/keras/src/layers/core/embedding.py:90: UserWarning: Argument `input_length` is deprecated. Just remove it.\n",
            "  warnings.warn(\n"
          ]
        },
        {
          "name": "stdout",
          "output_type": "stream",
          "text": [
            "\u001b[1m304/304\u001b[0m \u001b[32m━━━━━━━━━━━━━━━━━━━━\u001b[0m\u001b[37m\u001b[0m \u001b[1m22s\u001b[0m 69ms/step - accuracy: 0.6756 - loss: 0.7562 - val_accuracy: 0.8681 - val_loss: 0.3452\n",
            "Epoch 2/5\n",
            "\u001b[1m304/304\u001b[0m \u001b[32m━━━━━━━━━━━━━━━━━━━━\u001b[0m\u001b[37m\u001b[0m \u001b[1m40s\u001b[0m 66ms/step - accuracy: 0.9114 - loss: 0.2449 - val_accuracy: 0.8949 - val_loss: 0.2794\n",
            "Epoch 3/5\n",
            "\u001b[1m304/304\u001b[0m \u001b[32m━━━━━━━━━━━━━━━━━━━━\u001b[0m\u001b[37m\u001b[0m \u001b[1m20s\u001b[0m 65ms/step - accuracy: 0.9605 - loss: 0.1314 - val_accuracy: 0.8972 - val_loss: 0.2745\n",
            "Epoch 4/5\n",
            "\u001b[1m304/304\u001b[0m \u001b[32m━━━━━━━━━━━━━━━━━━━━\u001b[0m\u001b[37m\u001b[0m \u001b[1m21s\u001b[0m 68ms/step - accuracy: 0.9841 - loss: 0.0665 - val_accuracy: 0.8981 - val_loss: 0.2885\n",
            "Epoch 5/5\n",
            "\u001b[1m304/304\u001b[0m \u001b[32m━━━━━━━━━━━━━━━━━━━━\u001b[0m\u001b[37m\u001b[0m \u001b[1m20s\u001b[0m 67ms/step - accuracy: 0.9942 - loss: 0.0329 - val_accuracy: 0.8889 - val_loss: 0.3191\n"
          ]
        }
      ],
      "source": [
        "model = Sequential()\n",
        "model.add(Embedding(MAX_NB_WORDS, EMBEDDING_DIM, input_length=X.shape[1]))\n",
        "model.add(Conv1D(128, 5, activation='relu'))\n",
        "model.add(GlobalMaxPooling1D())\n",
        "model.add(Dense(3, activation='softmax'))\n",
        "model.compile(loss='categorical_crossentropy', optimizer='adam', metrics=['accuracy'])\n",
        "\n",
        "epochs = 5\n",
        "batch_size = 64\n",
        "\n",
        "history = model.fit(X_train, Y_train, epochs=epochs, batch_size=batch_size, validation_split=0.1, callbacks=[EarlyStopping(monitor='val_loss', patience=3, min_delta=0.0001)])"
      ]
    },
    {
      "cell_type": "code",
      "execution_count": 73,
      "metadata": {},
      "outputs": [
        {
          "name": "stdout",
          "output_type": "stream",
          "text": [
            "\u001b[1m75/75\u001b[0m \u001b[32m━━━━━━━━━━━━━━━━━━━━\u001b[0m\u001b[37m\u001b[0m \u001b[1m0s\u001b[0m 6ms/step - accuracy: 0.9041 - loss: 0.2612\n",
            "Test set\n",
            "  Loss: 0.289\n",
            "  Accuracy: 0.897\n"
          ]
        }
      ],
      "source": [
        "accr = model.evaluate(X_test,Y_test)\n",
        "print('Test set\\n  Loss: {:0.3f}\\n  Accuracy: {:0.3f}'.format(accr[0],accr[1]))"
      ]
    },
    {
      "cell_type": "code",
      "execution_count": 77,
      "metadata": {},
      "outputs": [
        {
          "data": {
            "image/png": "[encoded data removed]",
            "text/plain": [
              "<Figure size 1200x500 with 2 Axes>"
            ]
          },
          "metadata": {},
          "output_type": "display_data"
        }
      ],
      "source": [
        "import matplotlib.pyplot as plt\n",
        "\n",
        "# Create a figure with two subplots side by side\n",
        "fig, (ax1, ax2) = plt.subplots(1, 2, figsize=(12, 5))\n",
        "\n",
        "# Plot Loss on the first subplot\n",
        "ax1.set_title('Loss')\n",
        "ax1.plot(history.history['loss'], label='train')\n",
        "ax1.plot(history.history['val_loss'], label='test')\n",
        "ax1.legend()\n",
        "\n",
        "# Plot Accuracy on the second subplot\n",
        "ax2.set_title('Accuracy')\n",
        "ax2.plot(history.history['accuracy'], label='train')\n",
        "ax2.plot(history.history['val_accuracy'], label='test')\n",
        "ax2.legend()\n",
        "\n",
        "# Display the plots\n",
        "plt.show()"
      ]
    },
    {
      "cell_type": "code",
      "execution_count": 76,
      "metadata": {},
      "outputs": [
        {
          "name": "stdout",
          "output_type": "stream",
          "text": [
            "\u001b[1m1/1\u001b[0m \u001b[32m━━━━━━━━━━━━━━━━━━━━\u001b[0m\u001b[37m\u001b[0m \u001b[1m0s\u001b[0m 55ms/step\n",
            "[[9.9902821e-01 6.0732036e-05 9.1105839e-04]] neg\n"
          ]
        }
      ],
      "source": [
        "new_review = ['''Very upsetting, I had a few million coins when the dang game started glitching, I would make a shot and the game would glitch and you could clearly see that the shot went in but the screen would flàsh and the balls would be right back like they were before I shot. And the opponent would have ball in hand. Then for some ungodly reason the game restarted and almost all of my coins were gone!!!!! There should be some way to get them back since it was the game that took them. About ready to delete!!''']\n",
        "seq = tokenizer.texts_to_sequences(new_review)\n",
        "padded = pad_sequences(seq, maxlen=MAX_SEQUENCE_LENGTH)\n",
        "pred = model.predict(padded)\n",
        "labels = ['neg', 'neutral', 'pos']\n",
        "print(pred, labels[np.argmax(pred)])"
      ]
    }
  ],
  "metadata": {
    "colab": {
      "provenance": []
    },
    "kernelspec": {
      "display_name": "Python 3",
      "name": "python3"
    },
    "language_info": {
      "codemirror_mode": {
        "name": "ipython",
        "version": 3
      },
      "file_extension": ".py",
      "mimetype": "text/x-python",
      "name": "python",
      "nbconvert_exporter": "python",
      "pygments_lexer": "ipython3",
      "version": "3.11.6"
    }
  },
  "nbformat": 4,
  "nbformat_minor": 0
}
