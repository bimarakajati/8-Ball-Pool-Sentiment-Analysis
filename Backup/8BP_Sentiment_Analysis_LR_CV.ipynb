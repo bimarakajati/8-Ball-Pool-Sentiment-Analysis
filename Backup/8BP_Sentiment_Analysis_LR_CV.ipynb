{
  "cells": [
    {
      "cell_type": "markdown",
      "metadata": {
        "id": "jZSDSMyeAFr0"
      },
      "source": [
        "# **Import Library**"
      ]
    },
    {
      "cell_type": "code",
      "execution_count": 3,
      "metadata": {
        "id": "N-gVREDij2jV"
      },
      "outputs": [
        {
          "name": "stderr",
          "output_type": "stream",
          "text": [
            "[nltk_data] Downloading package punkt to /home/bima/nltk_data...\n",
            "[nltk_data]   Package punkt is already up-to-date!\n",
            "[nltk_data] Downloading package stopwords to /home/bima/nltk_data...\n",
            "[nltk_data]   Package stopwords is already up-to-date!\n"
          ]
        }
      ],
      "source": [
        "from nltk.corpus import stopwords # Daftar kata-kata berhenti dalam teks\n",
        "from nltk.stem import PorterStemmer # Stemmer yang digunakan adalah Porter Stemmer.\n",
        "from nltk.tokenize import word_tokenize # Tokenisasi teks\n",
        "from sklearn.ensemble import RandomForestClassifier # Algoritma Random Forest untuk klasifikasi\n",
        "from sklearn.feature_extraction.text import TfidfVectorizer # Konversi teks menjadi vektor TF-IDF\n",
        "from sklearn.linear_model import LogisticRegression # Algoritma Logistic Regression untuk klasifikasi\n",
        "from sklearn.metrics import accuracy_score # Metrik akurasi\n",
        "from sklearn.model_selection import train_test_split # Membagi data menjadi set pelatihan dan pengujian\n",
        "from sklearn.naive_bayes import BernoulliNB # Algoritma Naive Bayes untuk klasifikasi\n",
        "from sklearn.tree import DecisionTreeClassifier # Algoritma Decision Tree untuk klasifikasi\n",
        "from textblob import TextBlob # Pustaka untuk pemrosesan bahasa alami\n",
        "from wordcloud import WordCloud # Membuat visualisasi berbentuk awan kata (word cloud) dari teks\n",
        "import matplotlib.pyplot as plt # Matplotlib untuk visualisasi data\n",
        "import nltk # Import pustaka NLTK (Natural Language Toolkit).\n",
        "import numpy as np # NumPy untuk komputasi numerik\n",
        "import pandas as pd # Pandas untuk manipulasi dan analisis data\n",
        "import re # Modul untuk bekerja dengan ekspresi reguler\n",
        "import seaborn as sns # Seaborn untuk visualisasi data statistik, mengatur gaya visualisasi\n",
        "import string # Berisi konstanta string, seperti tanda baca\n",
        "nltk.download('punkt')  # Mengunduh dataset yang diperlukan untuk tokenisasi teks.\n",
        "nltk.download('stopwords')  # Mengunduh dataset yang berisi daftar kata-kata berhenti (stop words) dalam berbagai bahasa.\n",
        "np.random.seed(0) # Mengatur seed untuk reproduktibilitas\n",
        "pd.options.mode.chained_assignment = None # Menonaktifkan peringatan chaining"
      ]
    },
    {
      "cell_type": "markdown",
      "metadata": {
        "id": "UbSmrnDCAPc0"
      },
      "source": [
        "# **Loading Dataset**"
      ]
    },
    {
      "cell_type": "code",
      "execution_count": 4,
      "metadata": {},
      "outputs": [],
      "source": [
        "balanced_df = pd.read_csv('balanced_reviews.csv') # Membaca data dari file CSV"
      ]
    },
    {
      "cell_type": "markdown",
      "metadata": {
        "id": "OyzhtS7Mh1FQ"
      },
      "source": [
        "## Preprocessing"
      ]
    },
    {
      "cell_type": "code",
      "execution_count": 5,
      "metadata": {
        "id": "Dlz8X3I6g3uU"
      },
      "outputs": [],
      "source": [
        "def cleaningText(text):\n",
        "    text = re.sub(r'@[A-Za-z0-9]+', '', text) # remove mentions\n",
        "    text = re.sub(r'#[A-Za-z0-9]+', '', text) # remove hashtag\n",
        "    text = re.sub(r'RT[\\s]', '', text) # remove RT\n",
        "    text = re.sub(r\"http\\S+\", '', text) # remove link\n",
        "    text = re.sub(r'[0-9]+', '', text) # remove numbers\n",
        "    text = re.sub(r'[^\\w\\s]', '', text) # remove numbers\n",
        "    text = text.replace('\\n', ' ') # replace new line into space\n",
        "    text = text.translate(str.maketrans('', '', string.punctuation)) # remove all punctuations\n",
        "    text = text.strip(' ') # remove characters space from both left and right text\n",
        "    return text\n",
        "\n",
        "def casefoldingText(text): # Converting all the characters in a text into lower case\n",
        "    text = text.lower()\n",
        "    return text\n",
        "\n",
        "def tokenizingText(text): # Tokenizing or splitting a string, text into a list of tokens\n",
        "    text = word_tokenize(text)\n",
        "    return text\n",
        "\n",
        "def filteringText(text): # Remove stopwors in a text\n",
        "    listStopwords = set(stopwords.words('english'))\n",
        "    filtered = []\n",
        "    for txt in text:\n",
        "        if txt not in listStopwords:\n",
        "            filtered.append(txt)\n",
        "    text = filtered\n",
        "    return text\n",
        "\n",
        "def stemmingText(text): # Reducing a word to its word stem that affixes to suffixes and prefixes or to the roots of words\n",
        "    # Membuat objek stemmer\n",
        "    stemmer = PorterStemmer()\n",
        "\n",
        "    # Menerapkan stemming pada setiap kata dalam daftar\n",
        "    stemmed_words = [stemmer.stem(word) for word in text]\n",
        "\n",
        "    return stemmed_words\n",
        "\n",
        "def toSentence(list_words): # Convert list of words into sentence\n",
        "    sentence = ' '.join(word for word in list_words)\n",
        "    return sentence"
      ]
    },
    {
      "cell_type": "markdown",
      "metadata": {
        "id": "p2GU6kJljMwO"
      },
      "source": [
        "# **Skema 1: Logistic Regression + CountVectorizer**"
      ]
    },
    {
      "cell_type": "markdown",
      "metadata": {},
      "source": [
        "## Feature Extraction (CountVectorizer)"
      ]
    },
    {
      "cell_type": "code",
      "execution_count": 6,
      "metadata": {},
      "outputs": [
        {
          "data": {
            "text/html": [
              "<div>\n",
              "<style scoped>\n",
              "    .dataframe tbody tr th:only-of-type {\n",
              "        vertical-align: middle;\n",
              "    }\n",
              "\n",
              "    .dataframe tbody tr th {\n",
              "        vertical-align: top;\n",
              "    }\n",
              "\n",
              "    .dataframe thead th {\n",
              "        text-align: right;\n",
              "    }\n",
              "</style>\n",
              "<table border=\"1\" class=\"dataframe\">\n",
              "  <thead>\n",
              "    <tr style=\"text-align: right;\">\n",
              "      <th></th>\n",
              "      <th>content</th>\n",
              "      <th>text_clean</th>\n",
              "      <th>text_casefoldingText</th>\n",
              "      <th>text_tokenizingText</th>\n",
              "      <th>text_stopword</th>\n",
              "      <th>text_stemmingText</th>\n",
              "      <th>text_akhir</th>\n",
              "      <th>polarity</th>\n",
              "      <th>label</th>\n",
              "    </tr>\n",
              "  </thead>\n",
              "  <tbody>\n",
              "    <tr>\n",
              "      <th>0</th>\n",
              "      <td>Game is very fun and helps you learn about pla...</td>\n",
              "      <td>Game is very fun and helps you learn about pla...</td>\n",
              "      <td>game is very fun and helps you learn about pla...</td>\n",
              "      <td>['game', 'is', 'very', 'fun', 'and', 'helps', ...</td>\n",
              "      <td>['game', 'fun', 'helps', 'learn', 'playing', '...</td>\n",
              "      <td>['game', 'fun', 'help', 'learn', 'play', 'game...</td>\n",
              "      <td>game fun help learn play game real rig opinion...</td>\n",
              "      <td>0.088889</td>\n",
              "      <td>pos</td>\n",
              "    </tr>\n",
              "  </tbody>\n",
              "</table>\n",
              "</div>"
            ],
            "text/plain": [
              "                                             content  \\\n",
              "0  Game is very fun and helps you learn about pla...   \n",
              "\n",
              "                                          text_clean  \\\n",
              "0  Game is very fun and helps you learn about pla...   \n",
              "\n",
              "                                text_casefoldingText  \\\n",
              "0  game is very fun and helps you learn about pla...   \n",
              "\n",
              "                                 text_tokenizingText  \\\n",
              "0  ['game', 'is', 'very', 'fun', 'and', 'helps', ...   \n",
              "\n",
              "                                       text_stopword  \\\n",
              "0  ['game', 'fun', 'helps', 'learn', 'playing', '...   \n",
              "\n",
              "                                   text_stemmingText  \\\n",
              "0  ['game', 'fun', 'help', 'learn', 'play', 'game...   \n",
              "\n",
              "                                          text_akhir  polarity label  \n",
              "0  game fun help learn play game real rig opinion...  0.088889   pos  "
            ]
          },
          "execution_count": 6,
          "metadata": {},
          "output_type": "execute_result"
        }
      ],
      "source": [
        "balanced_df.head(1)"
      ]
    },
    {
      "cell_type": "code",
      "execution_count": 7,
      "metadata": {},
      "outputs": [],
      "source": [
        "# Create a mapping from label strings to integers\n",
        "label_mapping = {'neg': 0, 'neutral': 1, 'pos': 2}\n",
        "balanced_df['label'] = balanced_df['label'].map(label_mapping)"
      ]
    },
    {
      "cell_type": "code",
      "execution_count": 8,
      "metadata": {},
      "outputs": [
        {
          "data": {
            "text/plain": [
              "label\n",
              "0    8000\n",
              "1    8000\n",
              "2    8000\n",
              "Name: count, dtype: int64"
            ]
          },
          "execution_count": 8,
          "metadata": {},
          "output_type": "execute_result"
        }
      ],
      "source": [
        "balanced_df.value_counts('label')"
      ]
    },
    {
      "cell_type": "code",
      "execution_count": 9,
      "metadata": {},
      "outputs": [],
      "source": [
        "from sklearn.feature_extraction.text import CountVectorizer"
      ]
    },
    {
      "cell_type": "code",
      "execution_count": 11,
      "metadata": {},
      "outputs": [],
      "source": [
        "balanced_df['text_akhir'] = balanced_df['text_akhir'].fillna('')"
      ]
    },
    {
      "cell_type": "code",
      "execution_count": 12,
      "metadata": {},
      "outputs": [],
      "source": [
        "# Membuat objek CountVectorizer\n",
        "count_vectorizer = CountVectorizer()\n",
        "\n",
        "# Mengubah teks menjadi vektor\n",
        "X = count_vectorizer.fit_transform(balanced_df['text_akhir'])"
      ]
    },
    {
      "cell_type": "code",
      "execution_count": 13,
      "metadata": {},
      "outputs": [
        {
          "data": {
            "text/html": [
              "<div>\n",
              "<style scoped>\n",
              "    .dataframe tbody tr th:only-of-type {\n",
              "        vertical-align: middle;\n",
              "    }\n",
              "\n",
              "    .dataframe tbody tr th {\n",
              "        vertical-align: top;\n",
              "    }\n",
              "\n",
              "    .dataframe thead th {\n",
              "        text-align: right;\n",
              "    }\n",
              "</style>\n",
              "<table border=\"1\" class=\"dataframe\">\n",
              "  <thead>\n",
              "    <tr style=\"text-align: right;\">\n",
              "      <th></th>\n",
              "      <th>aa</th>\n",
              "      <th>aaa</th>\n",
              "      <th>aaaaa</th>\n",
              "      <th>aaaaaaaand</th>\n",
              "      <th>aaaaaargh</th>\n",
              "      <th>aaaaand</th>\n",
              "      <th>aaaahaaaa</th>\n",
              "      <th>aaaand</th>\n",
              "      <th>aaaargh</th>\n",
              "      <th>aaand</th>\n",
              "      <th>...</th>\n",
              "      <th>𝚜𝚞𝚙𝚎𝚛𝚌𝚘𝚗𝚎𝚌𝚝𝚎𝚍</th>\n",
              "      <th>𝚝𝚑𝚊𝚝𝚜</th>\n",
              "      <th>𝚝𝚑𝚎</th>\n",
              "      <th>𝚝𝚑𝚒𝚜</th>\n",
              "      <th>𝚝𝚘</th>\n",
              "      <th>𝚠𝚊𝚜</th>\n",
              "      <th>𝚠𝚑𝚒𝚕𝚎</th>\n",
              "      <th>𝚠𝚒𝚕𝚕</th>\n",
              "      <th>𝚢𝚘𝚞</th>\n",
              "      <th>𝚢𝚘𝚞𝚛</th>\n",
              "    </tr>\n",
              "  </thead>\n",
              "  <tbody>\n",
              "    <tr>\n",
              "      <th>0</th>\n",
              "      <td>0</td>\n",
              "      <td>0</td>\n",
              "      <td>0</td>\n",
              "      <td>0</td>\n",
              "      <td>0</td>\n",
              "      <td>0</td>\n",
              "      <td>0</td>\n",
              "      <td>0</td>\n",
              "      <td>0</td>\n",
              "      <td>0</td>\n",
              "      <td>...</td>\n",
              "      <td>0</td>\n",
              "      <td>0</td>\n",
              "      <td>0</td>\n",
              "      <td>0</td>\n",
              "      <td>0</td>\n",
              "      <td>0</td>\n",
              "      <td>0</td>\n",
              "      <td>0</td>\n",
              "      <td>0</td>\n",
              "      <td>0</td>\n",
              "    </tr>\n",
              "    <tr>\n",
              "      <th>1</th>\n",
              "      <td>0</td>\n",
              "      <td>0</td>\n",
              "      <td>0</td>\n",
              "      <td>0</td>\n",
              "      <td>0</td>\n",
              "      <td>0</td>\n",
              "      <td>0</td>\n",
              "      <td>0</td>\n",
              "      <td>0</td>\n",
              "      <td>0</td>\n",
              "      <td>...</td>\n",
              "      <td>0</td>\n",
              "      <td>0</td>\n",
              "      <td>0</td>\n",
              "      <td>0</td>\n",
              "      <td>0</td>\n",
              "      <td>0</td>\n",
              "      <td>0</td>\n",
              "      <td>0</td>\n",
              "      <td>0</td>\n",
              "      <td>0</td>\n",
              "    </tr>\n",
              "    <tr>\n",
              "      <th>2</th>\n",
              "      <td>0</td>\n",
              "      <td>0</td>\n",
              "      <td>0</td>\n",
              "      <td>0</td>\n",
              "      <td>0</td>\n",
              "      <td>0</td>\n",
              "      <td>0</td>\n",
              "      <td>0</td>\n",
              "      <td>0</td>\n",
              "      <td>0</td>\n",
              "      <td>...</td>\n",
              "      <td>0</td>\n",
              "      <td>0</td>\n",
              "      <td>0</td>\n",
              "      <td>0</td>\n",
              "      <td>0</td>\n",
              "      <td>0</td>\n",
              "      <td>0</td>\n",
              "      <td>0</td>\n",
              "      <td>0</td>\n",
              "      <td>0</td>\n",
              "    </tr>\n",
              "    <tr>\n",
              "      <th>3</th>\n",
              "      <td>0</td>\n",
              "      <td>0</td>\n",
              "      <td>0</td>\n",
              "      <td>0</td>\n",
              "      <td>0</td>\n",
              "      <td>0</td>\n",
              "      <td>0</td>\n",
              "      <td>0</td>\n",
              "      <td>0</td>\n",
              "      <td>0</td>\n",
              "      <td>...</td>\n",
              "      <td>0</td>\n",
              "      <td>0</td>\n",
              "      <td>0</td>\n",
              "      <td>0</td>\n",
              "      <td>0</td>\n",
              "      <td>0</td>\n",
              "      <td>0</td>\n",
              "      <td>0</td>\n",
              "      <td>0</td>\n",
              "      <td>0</td>\n",
              "    </tr>\n",
              "    <tr>\n",
              "      <th>4</th>\n",
              "      <td>0</td>\n",
              "      <td>0</td>\n",
              "      <td>0</td>\n",
              "      <td>0</td>\n",
              "      <td>0</td>\n",
              "      <td>0</td>\n",
              "      <td>0</td>\n",
              "      <td>0</td>\n",
              "      <td>0</td>\n",
              "      <td>0</td>\n",
              "      <td>...</td>\n",
              "      <td>0</td>\n",
              "      <td>0</td>\n",
              "      <td>0</td>\n",
              "      <td>0</td>\n",
              "      <td>0</td>\n",
              "      <td>0</td>\n",
              "      <td>0</td>\n",
              "      <td>0</td>\n",
              "      <td>0</td>\n",
              "      <td>0</td>\n",
              "    </tr>\n",
              "    <tr>\n",
              "      <th>...</th>\n",
              "      <td>...</td>\n",
              "      <td>...</td>\n",
              "      <td>...</td>\n",
              "      <td>...</td>\n",
              "      <td>...</td>\n",
              "      <td>...</td>\n",
              "      <td>...</td>\n",
              "      <td>...</td>\n",
              "      <td>...</td>\n",
              "      <td>...</td>\n",
              "      <td>...</td>\n",
              "      <td>...</td>\n",
              "      <td>...</td>\n",
              "      <td>...</td>\n",
              "      <td>...</td>\n",
              "      <td>...</td>\n",
              "      <td>...</td>\n",
              "      <td>...</td>\n",
              "      <td>...</td>\n",
              "      <td>...</td>\n",
              "      <td>...</td>\n",
              "    </tr>\n",
              "    <tr>\n",
              "      <th>23995</th>\n",
              "      <td>0</td>\n",
              "      <td>0</td>\n",
              "      <td>0</td>\n",
              "      <td>0</td>\n",
              "      <td>0</td>\n",
              "      <td>0</td>\n",
              "      <td>0</td>\n",
              "      <td>0</td>\n",
              "      <td>0</td>\n",
              "      <td>0</td>\n",
              "      <td>...</td>\n",
              "      <td>0</td>\n",
              "      <td>0</td>\n",
              "      <td>0</td>\n",
              "      <td>0</td>\n",
              "      <td>0</td>\n",
              "      <td>0</td>\n",
              "      <td>0</td>\n",
              "      <td>0</td>\n",
              "      <td>0</td>\n",
              "      <td>0</td>\n",
              "    </tr>\n",
              "    <tr>\n",
              "      <th>23996</th>\n",
              "      <td>0</td>\n",
              "      <td>0</td>\n",
              "      <td>0</td>\n",
              "      <td>0</td>\n",
              "      <td>0</td>\n",
              "      <td>0</td>\n",
              "      <td>0</td>\n",
              "      <td>0</td>\n",
              "      <td>0</td>\n",
              "      <td>0</td>\n",
              "      <td>...</td>\n",
              "      <td>0</td>\n",
              "      <td>0</td>\n",
              "      <td>0</td>\n",
              "      <td>0</td>\n",
              "      <td>0</td>\n",
              "      <td>0</td>\n",
              "      <td>0</td>\n",
              "      <td>0</td>\n",
              "      <td>0</td>\n",
              "      <td>0</td>\n",
              "    </tr>\n",
              "    <tr>\n",
              "      <th>23997</th>\n",
              "      <td>0</td>\n",
              "      <td>0</td>\n",
              "      <td>0</td>\n",
              "      <td>0</td>\n",
              "      <td>0</td>\n",
              "      <td>0</td>\n",
              "      <td>0</td>\n",
              "      <td>0</td>\n",
              "      <td>0</td>\n",
              "      <td>0</td>\n",
              "      <td>...</td>\n",
              "      <td>0</td>\n",
              "      <td>0</td>\n",
              "      <td>0</td>\n",
              "      <td>0</td>\n",
              "      <td>0</td>\n",
              "      <td>0</td>\n",
              "      <td>0</td>\n",
              "      <td>0</td>\n",
              "      <td>0</td>\n",
              "      <td>0</td>\n",
              "    </tr>\n",
              "    <tr>\n",
              "      <th>23998</th>\n",
              "      <td>0</td>\n",
              "      <td>0</td>\n",
              "      <td>0</td>\n",
              "      <td>0</td>\n",
              "      <td>0</td>\n",
              "      <td>0</td>\n",
              "      <td>0</td>\n",
              "      <td>0</td>\n",
              "      <td>0</td>\n",
              "      <td>0</td>\n",
              "      <td>...</td>\n",
              "      <td>0</td>\n",
              "      <td>0</td>\n",
              "      <td>0</td>\n",
              "      <td>0</td>\n",
              "      <td>0</td>\n",
              "      <td>0</td>\n",
              "      <td>0</td>\n",
              "      <td>0</td>\n",
              "      <td>0</td>\n",
              "      <td>0</td>\n",
              "    </tr>\n",
              "    <tr>\n",
              "      <th>23999</th>\n",
              "      <td>0</td>\n",
              "      <td>0</td>\n",
              "      <td>0</td>\n",
              "      <td>0</td>\n",
              "      <td>0</td>\n",
              "      <td>0</td>\n",
              "      <td>0</td>\n",
              "      <td>0</td>\n",
              "      <td>0</td>\n",
              "      <td>0</td>\n",
              "      <td>...</td>\n",
              "      <td>0</td>\n",
              "      <td>0</td>\n",
              "      <td>0</td>\n",
              "      <td>0</td>\n",
              "      <td>0</td>\n",
              "      <td>0</td>\n",
              "      <td>0</td>\n",
              "      <td>0</td>\n",
              "      <td>0</td>\n",
              "      <td>0</td>\n",
              "    </tr>\n",
              "  </tbody>\n",
              "</table>\n",
              "<p>24000 rows × 16407 columns</p>\n",
              "</div>"
            ],
            "text/plain": [
              "       aa  aaa  aaaaa  aaaaaaaand  aaaaaargh  aaaaand  aaaahaaaa  aaaand  \\\n",
              "0       0    0      0           0          0        0          0       0   \n",
              "1       0    0      0           0          0        0          0       0   \n",
              "2       0    0      0           0          0        0          0       0   \n",
              "3       0    0      0           0          0        0          0       0   \n",
              "4       0    0      0           0          0        0          0       0   \n",
              "...    ..  ...    ...         ...        ...      ...        ...     ...   \n",
              "23995   0    0      0           0          0        0          0       0   \n",
              "23996   0    0      0           0          0        0          0       0   \n",
              "23997   0    0      0           0          0        0          0       0   \n",
              "23998   0    0      0           0          0        0          0       0   \n",
              "23999   0    0      0           0          0        0          0       0   \n",
              "\n",
              "       aaaargh  aaand  ...  𝚜𝚞𝚙𝚎𝚛𝚌𝚘𝚗𝚎𝚌𝚝𝚎𝚍  𝚝𝚑𝚊𝚝𝚜  𝚝𝚑𝚎  𝚝𝚑𝚒𝚜  𝚝𝚘  𝚠𝚊𝚜  𝚠𝚑𝚒𝚕𝚎  \\\n",
              "0            0      0  ...              0      0    0     0   0    0      0   \n",
              "1            0      0  ...              0      0    0     0   0    0      0   \n",
              "2            0      0  ...              0      0    0     0   0    0      0   \n",
              "3            0      0  ...              0      0    0     0   0    0      0   \n",
              "4            0      0  ...              0      0    0     0   0    0      0   \n",
              "...        ...    ...  ...            ...    ...  ...   ...  ..  ...    ...   \n",
              "23995        0      0  ...              0      0    0     0   0    0      0   \n",
              "23996        0      0  ...              0      0    0     0   0    0      0   \n",
              "23997        0      0  ...              0      0    0     0   0    0      0   \n",
              "23998        0      0  ...              0      0    0     0   0    0      0   \n",
              "23999        0      0  ...              0      0    0     0   0    0      0   \n",
              "\n",
              "       𝚠𝚒𝚕𝚕  𝚢𝚘𝚞  𝚢𝚘𝚞𝚛  \n",
              "0         0    0     0  \n",
              "1         0    0     0  \n",
              "2         0    0     0  \n",
              "3         0    0     0  \n",
              "4         0    0     0  \n",
              "...     ...  ...   ...  \n",
              "23995     0    0     0  \n",
              "23996     0    0     0  \n",
              "23997     0    0     0  \n",
              "23998     0    0     0  \n",
              "23999     0    0     0  \n",
              "\n",
              "[24000 rows x 16407 columns]"
            ]
          },
          "execution_count": 13,
          "metadata": {},
          "output_type": "execute_result"
        }
      ],
      "source": [
        "# Konversi hasil ekstraksi fitur menjadi dataframe\n",
        "features_df = pd.DataFrame(X.toarray(), columns=count_vectorizer.get_feature_names_out())\n",
        "\n",
        "# Menampilkan hasil ekstraksi fitur\n",
        "features_df"
      ]
    },
    {
      "cell_type": "markdown",
      "metadata": {},
      "source": [
        "## Data Splitting (7:3)"
      ]
    },
    {
      "cell_type": "code",
      "execution_count": 14,
      "metadata": {},
      "outputs": [
        {
          "name": "stdout",
          "output_type": "stream",
          "text": [
            "Dimensi data latih: (16800, 16407) (16800,)\n",
            "Dimensi data uji: (7200, 16407) (7200,)\n"
          ]
        }
      ],
      "source": [
        "# Bagi data menjadi data latih dan data uji (70% data latih, 30% data uji)\n",
        "X_train, X_test, y_train, y_test = train_test_split(X, balanced_df['label'], test_size=0.3, random_state=0)\n",
        "\n",
        "# Menampilkan dimensi data latih dan data uji\n",
        "print(\"Dimensi data latih:\", X_train.shape, y_train.shape)\n",
        "print(\"Dimensi data uji:\", X_test.shape, y_test.shape)"
      ]
    },
    {
      "cell_type": "markdown",
      "metadata": {},
      "source": [
        "## Model Training"
      ]
    },
    {
      "cell_type": "code",
      "execution_count": 15,
      "metadata": {
        "colab": {
          "base_uri": "https://localhost:8080/"
        },
        "id": "NW62fvPMwJEU",
        "outputId": "778a5e06-f490-4e01-abae-1ed4cb396ad9"
      },
      "outputs": [
        {
          "name": "stdout",
          "output_type": "stream",
          "text": [
            "Logistic Regression - accuracy_train: 0.9844642857142857\n",
            "Logistic Regression - accuracy_test: 0.9098611111111111\n",
            "CPU times: user 3min 12s, sys: 28.7 s, total: 3min 41s\n",
            "Wall time: 1min 7s\n"
          ]
        }
      ],
      "source": [
        "%%time\n",
        "# Membuat objek model Logistic Regression\n",
        "logistic_regression = LogisticRegression()\n",
        "\n",
        "# Melatih model Logistic Regression pada data pelatihan\n",
        "logistic_regression.fit(X_train.toarray(), y_train)\n",
        "\n",
        "# Prediksi sentimen pada data pelatihan dan data uji\n",
        "y_pred_train_lr = logistic_regression.predict(X_train.toarray())\n",
        "y_pred_test_lr = logistic_regression.predict(X_test.toarray())\n",
        "\n",
        "# Evaluasi akurasi model Logistic Regression pada data pelatihan\n",
        "accuracy_train_lr = accuracy_score(y_pred_train_lr, y_train)\n",
        "\n",
        "# Evaluasi akurasi model Logistic Regression pada data uji\n",
        "accuracy_test_lr = accuracy_score(y_pred_test_lr, y_test)\n",
        "\n",
        "# Menampilkan akurasi\n",
        "print('Logistic Regression - accuracy_train:', accuracy_train_lr)\n",
        "print('Logistic Regression - accuracy_test:', accuracy_test_lr)"
      ]
    },
    {
      "cell_type": "markdown",
      "metadata": {
        "id": "AdQxqNHVmnBT"
      },
      "source": [
        "## Review Prediction"
      ]
    },
    {
      "cell_type": "code",
      "execution_count": 20,
      "metadata": {
        "id": "-oaeioLiw_QZ"
      },
      "outputs": [],
      "source": [
        "def review_predict(text):\n",
        "  # Melakukan preprocessing pada kalimat baru\n",
        "  kalimat_baru_cleaned = cleaningText(text)\n",
        "  kalimat_baru_casefolded = casefoldingText(kalimat_baru_cleaned)\n",
        "  kalimat_baru_tokenized = tokenizingText(kalimat_baru_casefolded)\n",
        "  kalimat_baru_filtered = filteringText(kalimat_baru_tokenized)\n",
        "  kalimat_baru_stemmed = stemmingText(kalimat_baru_filtered)\n",
        "  kalimat_baru_final = toSentence(kalimat_baru_stemmed)\n",
        "\n",
        "  # Menggunakan objek cv yang sudah di-fit dari pelatihan sebelumnya\n",
        "  X_kalimat_baru = count_vectorizer.transform([kalimat_baru_final])\n",
        "\n",
        "  # Memperoleh prediksi sentimen kalimat baru\n",
        "  prediksi_sentimen_logistic_regression = logistic_regression.predict(X_kalimat_baru)\n",
        "\n",
        "  # Menampilkan hasil prediksi\n",
        "  print(prediksi_sentimen_logistic_regression)\n",
        "  if prediksi_sentimen_logistic_regression == 0:\n",
        "    print(\"Negative\")\n",
        "  elif prediksi_sentimen_logistic_regression == 1:\n",
        "    print(\"Neutral\")\n",
        "  else:\n",
        "    print(\"Positive\")"
      ]
    },
    {
      "cell_type": "code",
      "execution_count": 21,
      "metadata": {
        "colab": {
          "base_uri": "https://localhost:8080/"
        },
        "id": "loTtBFEif8Dt",
        "outputId": "e8cc2824-ba19-4724-c481-391f1609f1ed"
      },
      "outputs": [
        {
          "name": "stdout",
          "output_type": "stream",
          "text": [
            "[0]\n",
            "Negative\n"
          ]
        }
      ],
      "source": [
        "kalimat_baru = '''One of the worst games I have ever played. It's like it's not even trying to hide the fact you play against AI. How I know this is that they always go for solids, never stripes, and when aiming have quick and spontaneous movements. Even when stripes has an easier ball to hit they still go for solids and 9 times out of 10 they don't have a profile picture. Another thing is after doing a spin in puts up the premium spin, I don't want or care about the premium spin so stop bringing it up.'''\n",
        "review_predict(kalimat_baru)"
      ]
    },
    {
      "cell_type": "code",
      "execution_count": null,
      "metadata": {},
      "outputs": [],
      "source": []
    }
  ],
  "metadata": {
    "colab": {
      "provenance": []
    },
    "kernelspec": {
      "display_name": "Python 3",
      "name": "python3"
    },
    "language_info": {
      "codemirror_mode": {
        "name": "ipython",
        "version": 3
      },
      "file_extension": ".py",
      "mimetype": "text/x-python",
      "name": "python",
      "nbconvert_exporter": "python",
      "pygments_lexer": "ipython3",
      "version": "3.11.6"
    }
  },
  "nbformat": 4,
  "nbformat_minor": 0
}
